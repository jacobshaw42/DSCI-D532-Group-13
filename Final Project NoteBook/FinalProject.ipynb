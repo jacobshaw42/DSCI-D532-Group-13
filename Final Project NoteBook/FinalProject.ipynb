{
 "cells": [
  {
   "cell_type": "code",
   "execution_count": 2,
   "id": "08f69994-fe84-48a3-a0ce-eefa635d6557",
   "metadata": {},
   "outputs": [],
   "source": [
    "import pandas as pd"
   ]
  },
  {
   "cell_type": "code",
   "execution_count": 20,
   "id": "88d37a7a-109e-4b54-bc4b-e26cb2d7d0ce",
   "metadata": {},
   "outputs": [],
   "source": [
    "df = pd.read_csv(\"HealthAutoExport-2021-06-01-2023-06-20 Data.csv\")\n",
    "cols = [\n",
    "        \"Date\",\n",
    "        \"Active Energy (kcal)\",\n",
    "        \"Apple Exercise Time (min)\",\n",
    "        \"Apple Stand Time (min)\",\n",
    "        \"Basal Energy Burned (kcal)\",\n",
    "        \"Flights Climbed (count)\",\n",
    "        \"Heart Rate [Min] (count/min)\",\n",
    "        \"Heart Rate [Max] (count/min)\",\n",
    "        \"Heart Rate [Avg] (count/min)\",\n",
    "        \"Resting Heart Rate (count/min)\",\n",
    "        \"Sleep Analysis [Asleep] (hr)\",\n",
    "        \"Sleep Analysis [In Bed] (hr)\",\n",
    "        \"Sleep Analysis [Core] (hr)\",\n",
    "        \"Sleep Analysis [Deep] (hr)\",\n",
    "        \"Sleep Analysis [REM] (hr)\",\n",
    "        \"Sleep Analysis [Awake] (hr)\",\n",
    "        \"Stair Speed: Down (ft/s)\",\n",
    "        \"Stair Speed: Up (ft/s)\",\n",
    "        \"Step Count (count)\",\n",
    "    ]\n",
    "\n",
    "df1 = df.loc[:,cols]\n",
    "df2 = df1.set_index(\"Date\")\n",
    "df3 = df2.stack().reset_index()\n",
    "df3.rename(columns = {\"level_1\":\"health_data_type\",0:\"value\"}, inplace = True)\n",
    "df3.loc[:,\"type_unit_of_measurement\"] = df3.health_data_type.apply(lambda x: x.split(\" (\")[1][:-1] if \" (\" in x else None)\n",
    "df3.loc[:,\"type\"] = df3.health_data_type.apply(lambda x: x.split(\" (\")[0].replace(\":\",\"\").replace(\"Analysis \",\"\").replace(\"Apple \",\"\").replace(\" \", \"_\").replace(\"[\",\"\").replace(\"]\",\"\").lower() if \" (\" in x else None)\n",
    "df3[\"day_of_month\"] = pd.to_datetime(df3[\"Date\"]).dt.day\n",
    "df3[\"month\"] = pd.to_datetime(df3[\"Date\"]).dt.month\n",
    "df3[\"year\"] = pd.to_datetime(df3[\"Date\"]).dt.year\n",
    "\n",
    "types_index = {x:ind for ind,x in enumerate(df3[\"type\"].unique())}\n",
    "date_index = {x:ind for ind,x in enumerate(df3[\"Date\"].unique())}\n",
    "\n",
    "df3.loc[:,\"date_index\"] = df3[\"Date\"].apply(lambda x: date_index[x])\n",
    "df3.loc[:,\"type_index\"] = df3[\"type\"].apply(lambda x: types_index[x])\n",
    "\n",
    "healthDataFact = df3.loc[:,[\"date_index\",\"type_index\",\"value\"]]\n",
    "healthDataDim = df3.loc[:,[\"type_index\",\"type\",\"type_unit_of_measurement\"]].drop_duplicates()\n",
    "dateDim = df3.loc[:,[\"date_index\",\"day_of_month\",\"month\",\"year\"]].drop_duplicates()"
   ]
  },
  {
   "cell_type": "code",
   "execution_count": 21,
   "id": "dfcdc850-5dc8-4cec-a08e-cad049f60c72",
   "metadata": {},
   "outputs": [
    {
     "name": "stdout",
     "output_type": "stream",
     "text": [
      "       date_index  type_index        value\n",
      "0               0           0     2.000000\n",
      "1               0           1     0.000000\n",
      "2               0           2     6.824425\n",
      "3               0           3     0.000000\n",
      "4               0           4     0.000000\n",
      "...           ...         ...          ...\n",
      "10656         749           5     0.708333\n",
      "10657         749           6     0.416667\n",
      "10658         749          16     1.110000\n",
      "10659         749          17     0.983000\n",
      "10660         749           7  6069.000000\n",
      "\n",
      "[10661 rows x 3 columns]\n"
     ]
    }
   ],
   "source": [
    "print(healthDataFact)"
   ]
  },
  {
   "cell_type": "code",
   "execution_count": 22,
   "id": "ad80da22-d7c9-490d-97c5-fb98865cde6a",
   "metadata": {},
   "outputs": [
    {
     "name": "stdout",
     "output_type": "stream",
     "text": [
      "     type_index                 type type_unit_of_measurement\n",
      "0             0      flights_climbed                    count\n",
      "1             1         sleep_asleep                       hr\n",
      "2             2         sleep_in_bed                       hr\n",
      "3             3           sleep_core                       hr\n",
      "4             4           sleep_deep                       hr\n",
      "5             5            sleep_rem                       hr\n",
      "6             6          sleep_awake                       hr\n",
      "7             7           step_count                    count\n",
      "146           8        active_energy                     kcal\n",
      "147           9        exercise_time                      min\n",
      "148          10           stand_time                      min\n",
      "149          11  basal_energy_burned                     kcal\n",
      "151          12       heart_rate_min                count/min\n",
      "152          13       heart_rate_max                count/min\n",
      "153          14       heart_rate_avg                count/min\n",
      "154          15   resting_heart_rate                count/min\n",
      "161          16     stair_speed_down                     ft/s\n",
      "162          17       stair_speed_up                     ft/s\n"
     ]
    }
   ],
   "source": [
    "print(healthDataDim)"
   ]
  },
  {
   "cell_type": "code",
   "execution_count": 23,
   "id": "ddd1cacb-513c-45f5-90cd-945707b67cc3",
   "metadata": {},
   "outputs": [
    {
     "name": "stdout",
     "output_type": "stream",
     "text": [
      "       date_index  day_of_month  month  year\n",
      "0               0             1      6  2021\n",
      "8               1             2      6  2021\n",
      "16              2             3      6  2021\n",
      "24              3             4      6  2021\n",
      "32              4             5      6  2021\n",
      "...           ...           ...    ...   ...\n",
      "10596         745            16      6  2023\n",
      "10604         746            17      6  2023\n",
      "10622         747            18      6  2023\n",
      "10631         748            19      6  2023\n",
      "10643         749            20      6  2023\n",
      "\n",
      "[750 rows x 4 columns]\n"
     ]
    }
   ],
   "source": [
    "print(dateDim)"
   ]
  },
  {
   "cell_type": "code",
   "execution_count": 24,
   "id": "64a5ca91-a915-4f06-9f03-1177d450860f",
   "metadata": {},
   "outputs": [],
   "source": [
    "import sqlite3"
   ]
  },
  {
   "cell_type": "code",
   "execution_count": 25,
   "id": "759729b5-8e69-43de-8ae2-b09be8a3a545",
   "metadata": {},
   "outputs": [],
   "source": [
    "conn = sqlite3.connect('FinalProject.db')\n",
    "c = conn.cursor()"
   ]
  },
  {
   "cell_type": "code",
   "execution_count": 46,
   "id": "96a7b10f-7580-437f-ab7d-b51969c32150",
   "metadata": {},
   "outputs": [
    {
     "data": {
      "text/plain": [
       "<sqlite3.Cursor at 0x1d765a2d2d0>"
      ]
     },
     "execution_count": 46,
     "metadata": {},
     "output_type": "execute_result"
    }
   ],
   "source": [
    "c.execute(\"DROP TABLE IF EXISTS HealthFact;\")"
   ]
  },
  {
   "cell_type": "code",
   "execution_count": 47,
   "id": "da95371a-f10e-4bd4-8742-2ad2f9fcc564",
   "metadata": {},
   "outputs": [
    {
     "data": {
      "text/plain": [
       "<sqlite3.Cursor at 0x1d765a2d2d0>"
      ]
     },
     "execution_count": 47,
     "metadata": {},
     "output_type": "execute_result"
    }
   ],
   "source": [
    "c.execute('''CREATE TABLE HealthFact(\n",
    "    id INTEGER PRIMARY KEY,\n",
    "    user_id INTEGER,\n",
    "    date_id INTEGER,\n",
    "    healthData_id INTEGER,\n",
    "    value NUMERIC (10,2)\n",
    ");''')"
   ]
  },
  {
   "cell_type": "code",
   "execution_count": 48,
   "id": "662985ba-a498-47a2-a388-edbbb7d24df3",
   "metadata": {},
   "outputs": [
    {
     "data": {
      "text/plain": [
       "<sqlite3.Cursor at 0x1d765a2d2d0>"
      ]
     },
     "execution_count": 48,
     "metadata": {},
     "output_type": "execute_result"
    }
   ],
   "source": [
    "c.execute(\"DROP TABLE IF EXISTS UserDim;\")"
   ]
  },
  {
   "cell_type": "code",
   "execution_count": 49,
   "id": "cdb18c92-4c01-4723-b8e1-45b2da24f860",
   "metadata": {},
   "outputs": [
    {
     "data": {
      "text/plain": [
       "<sqlite3.Cursor at 0x1d765a2d2d0>"
      ]
     },
     "execution_count": 49,
     "metadata": {},
     "output_type": "execute_result"
    }
   ],
   "source": [
    "c.execute('''CREATE TABLE UserDim(\n",
    "    id INTEGER PRIMARY KEY,\n",
    "    name VARCHAR (100),\n",
    "    email VARCHAR (100)\n",
    ");''')"
   ]
  },
  {
   "cell_type": "code",
   "execution_count": 62,
   "id": "ee2a4c41-5fc4-451c-82cd-f5381b2636a4",
   "metadata": {},
   "outputs": [
    {
     "data": {
      "text/plain": [
       "<sqlite3.Cursor at 0x1d765a2d2d0>"
      ]
     },
     "execution_count": 62,
     "metadata": {},
     "output_type": "execute_result"
    }
   ],
   "source": [
    "c.execute(\"DROP TABLE IF EXISTS DateDim;\")"
   ]
  },
  {
   "cell_type": "code",
   "execution_count": 63,
   "id": "2dd8edb0-0243-4ff5-9ef3-b6fa9cfbae3b",
   "metadata": {},
   "outputs": [
    {
     "data": {
      "text/plain": [
       "<sqlite3.Cursor at 0x1d765a2d2d0>"
      ]
     },
     "execution_count": 63,
     "metadata": {},
     "output_type": "execute_result"
    }
   ],
   "source": [
    "c.execute('''CREATE TABLE DateDim(\n",
    "    id INTEGER PRIMARY KEY,\n",
    "    day INTEGER (2),\n",
    "    month INTEGER (2),\n",
    "    year INTEGER (4)\n",
    ");''')"
   ]
  },
  {
   "cell_type": "code",
   "execution_count": 71,
   "id": "511ca542-978f-422d-abb2-9f872f3f3e60",
   "metadata": {},
   "outputs": [
    {
     "data": {
      "text/plain": [
       "<sqlite3.Cursor at 0x1d765a2d2d0>"
      ]
     },
     "execution_count": 71,
     "metadata": {},
     "output_type": "execute_result"
    }
   ],
   "source": [
    "c.execute(\"DROP TABLE IF EXISTS HealthDim;\")"
   ]
  },
  {
   "cell_type": "code",
   "execution_count": 72,
   "id": "98fefc64-e989-4b16-ba0e-68bede64244d",
   "metadata": {},
   "outputs": [
    {
     "data": {
      "text/plain": [
       "<sqlite3.Cursor at 0x1d765a2d2d0>"
      ]
     },
     "execution_count": 72,
     "metadata": {},
     "output_type": "execute_result"
    }
   ],
   "source": [
    "c.execute('''CREATE TABLE HealthDim(\n",
    "    id INTEGER PRIMARY KEY,\n",
    "    type VARCHAR (25),\n",
    "    desc VARCHAR (255),\n",
    "    unit_of_measurement VARCHAR (20)\n",
    ");''')"
   ]
  },
  {
   "cell_type": "code",
   "execution_count": 54,
   "id": "cd527ccb-4f6f-4925-bcbc-c16d14f2114e",
   "metadata": {},
   "outputs": [
    {
     "data": {
      "text/plain": [
       "<sqlite3.Cursor at 0x1d765a2d2d0>"
      ]
     },
     "execution_count": 54,
     "metadata": {},
     "output_type": "execute_result"
    }
   ],
   "source": [
    "c.execute(\"DROP TABLE IF EXISTS HealthClassifier;\")"
   ]
  },
  {
   "cell_type": "code",
   "execution_count": 55,
   "id": "971ad561-22c9-4bf4-8cbd-13ba1559f5ff",
   "metadata": {},
   "outputs": [
    {
     "data": {
      "text/plain": [
       "<sqlite3.Cursor at 0x1d765a2d2d0>"
      ]
     },
     "execution_count": 55,
     "metadata": {},
     "output_type": "execute_result"
    }
   ],
   "source": [
    "c.execute('''CREATE TABLE HealthClassifier(\n",
    "    id INTEGER PRIMARY KEY,\n",
    "    healthData_id INTEGER,\n",
    "    classifier VARCHAR (25),\n",
    "    lower_bound NUMERIC,\n",
    "    upper_bound NUMERIC\n",
    ");''')"
   ]
  },
  {
   "cell_type": "code",
   "execution_count": 64,
   "id": "166f44e1-5264-4ade-96bd-0b66a7f4d8b6",
   "metadata": {},
   "outputs": [],
   "source": [
    "for _, row in dateDim.iterrows():\n",
    "    day = int(row[\"day_of_month\"])\n",
    "    month = int(row[\"month\"])\n",
    "    year = int(row[\"year\"])\n",
    "\n",
    "    c.execute(\"INSERT INTO DateDim (day, month, year) VALUES (?, ?, ?)\", (day, month, year))\n",
    "    \n",
    "conn.commit()"
   ]
  },
  {
   "cell_type": "code",
   "execution_count": 70,
   "id": "0d9c1e84-0a8f-4c01-87dc-3f5578c8871c",
   "metadata": {},
   "outputs": [
    {
     "data": {
      "text/html": [
       "<div>\n",
       "<style scoped>\n",
       "    .dataframe tbody tr th:only-of-type {\n",
       "        vertical-align: middle;\n",
       "    }\n",
       "\n",
       "    .dataframe tbody tr th {\n",
       "        vertical-align: top;\n",
       "    }\n",
       "\n",
       "    .dataframe thead th {\n",
       "        text-align: right;\n",
       "    }\n",
       "</style>\n",
       "<table border=\"1\" class=\"dataframe\">\n",
       "  <thead>\n",
       "    <tr style=\"text-align: right;\">\n",
       "      <th></th>\n",
       "      <th>id</th>\n",
       "      <th>day</th>\n",
       "      <th>month</th>\n",
       "      <th>year</th>\n",
       "    </tr>\n",
       "  </thead>\n",
       "  <tbody>\n",
       "    <tr>\n",
       "      <th>0</th>\n",
       "      <td>1</td>\n",
       "      <td>1</td>\n",
       "      <td>6</td>\n",
       "      <td>2021</td>\n",
       "    </tr>\n",
       "    <tr>\n",
       "      <th>1</th>\n",
       "      <td>2</td>\n",
       "      <td>2</td>\n",
       "      <td>6</td>\n",
       "      <td>2021</td>\n",
       "    </tr>\n",
       "    <tr>\n",
       "      <th>2</th>\n",
       "      <td>3</td>\n",
       "      <td>3</td>\n",
       "      <td>6</td>\n",
       "      <td>2021</td>\n",
       "    </tr>\n",
       "    <tr>\n",
       "      <th>3</th>\n",
       "      <td>4</td>\n",
       "      <td>4</td>\n",
       "      <td>6</td>\n",
       "      <td>2021</td>\n",
       "    </tr>\n",
       "    <tr>\n",
       "      <th>4</th>\n",
       "      <td>5</td>\n",
       "      <td>5</td>\n",
       "      <td>6</td>\n",
       "      <td>2021</td>\n",
       "    </tr>\n",
       "  </tbody>\n",
       "</table>\n",
       "</div>"
      ],
      "text/plain": [
       "   id  day  month  year\n",
       "0   1    1      6  2021\n",
       "1   2    2      6  2021\n",
       "2   3    3      6  2021\n",
       "3   4    4      6  2021\n",
       "4   5    5      6  2021"
      ]
     },
     "execution_count": 70,
     "metadata": {},
     "output_type": "execute_result"
    }
   ],
   "source": [
    "c.execute(\"SELECT * FROM DateDim\")\n",
    "colnames = [row[0] for row in c.description]\n",
    "df = pd.DataFrame(c.fetchall(), columns=colnames)\n",
    "df.head()"
   ]
  },
  {
   "cell_type": "code",
   "execution_count": 35,
   "id": "a43a1766-0763-411a-8e9f-76e235e68769",
   "metadata": {},
   "outputs": [],
   "source": [
    "user_id = 1\n",
    "\n",
    "for _, row in healthDataFact.iterrows():\n",
    "    date_id = row[\"date_index\"]\n",
    "    healthData_id = row[\"type_index\"]\n",
    "    value = row[\"value\"]\n",
    "\n",
    "    c.execute(\"INSERT INTO HealthFact (user_id, date_id, healthData_id, value) VALUES (?, ?, ?, ?)\", (user_id, date_id, healthData_id, value))\n",
    "\n",
    "conn.commit()"
   ]
  },
  {
   "cell_type": "code",
   "execution_count": 69,
   "id": "ba46c0d2-9465-4a62-8749-fef393e4aed9",
   "metadata": {},
   "outputs": [
    {
     "data": {
      "text/html": [
       "<div>\n",
       "<style scoped>\n",
       "    .dataframe tbody tr th:only-of-type {\n",
       "        vertical-align: middle;\n",
       "    }\n",
       "\n",
       "    .dataframe tbody tr th {\n",
       "        vertical-align: top;\n",
       "    }\n",
       "\n",
       "    .dataframe thead th {\n",
       "        text-align: right;\n",
       "    }\n",
       "</style>\n",
       "<table border=\"1\" class=\"dataframe\">\n",
       "  <thead>\n",
       "    <tr style=\"text-align: right;\">\n",
       "      <th></th>\n",
       "      <th>id</th>\n",
       "      <th>user_id</th>\n",
       "      <th>date_id</th>\n",
       "      <th>healthData_id</th>\n",
       "      <th>value</th>\n",
       "    </tr>\n",
       "  </thead>\n",
       "  <tbody>\n",
       "    <tr>\n",
       "      <th>0</th>\n",
       "      <td>1</td>\n",
       "      <td>1</td>\n",
       "      <td>0</td>\n",
       "      <td>0</td>\n",
       "      <td>2.000000</td>\n",
       "    </tr>\n",
       "    <tr>\n",
       "      <th>1</th>\n",
       "      <td>2</td>\n",
       "      <td>1</td>\n",
       "      <td>0</td>\n",
       "      <td>1</td>\n",
       "      <td>0.000000</td>\n",
       "    </tr>\n",
       "    <tr>\n",
       "      <th>2</th>\n",
       "      <td>3</td>\n",
       "      <td>1</td>\n",
       "      <td>0</td>\n",
       "      <td>2</td>\n",
       "      <td>6.824425</td>\n",
       "    </tr>\n",
       "    <tr>\n",
       "      <th>3</th>\n",
       "      <td>4</td>\n",
       "      <td>1</td>\n",
       "      <td>0</td>\n",
       "      <td>3</td>\n",
       "      <td>0.000000</td>\n",
       "    </tr>\n",
       "    <tr>\n",
       "      <th>4</th>\n",
       "      <td>5</td>\n",
       "      <td>1</td>\n",
       "      <td>0</td>\n",
       "      <td>4</td>\n",
       "      <td>0.000000</td>\n",
       "    </tr>\n",
       "  </tbody>\n",
       "</table>\n",
       "</div>"
      ],
      "text/plain": [
       "   id  user_id  date_id  healthData_id     value\n",
       "0   1        1        0              0  2.000000\n",
       "1   2        1        0              1  0.000000\n",
       "2   3        1        0              2  6.824425\n",
       "3   4        1        0              3  0.000000\n",
       "4   5        1        0              4  0.000000"
      ]
     },
     "execution_count": 69,
     "metadata": {},
     "output_type": "execute_result"
    }
   ],
   "source": [
    "c.execute(\"SELECT * FROM HealthFact\")\n",
    "colnames = [row[0] for row in c.description]\n",
    "df = pd.DataFrame(c.fetchall(), columns=colnames)\n",
    "df.head()"
   ]
  },
  {
   "cell_type": "code",
   "execution_count": 73,
   "id": "99c867e4-4485-405b-9cd2-89703e7ca589",
   "metadata": {},
   "outputs": [],
   "source": [
    "descriptions = {\n",
    "    \"basal_energy_burned\": \"Calories burned during rest\",\n",
    "    \"sleep_asleep\": \"Duration of deep sleep\",\n",
    "    \"sleep_in_bed\": \"Time spent in bed\",\n",
    "    \"sleep_core\": \"Duration of sleep cycle\",\n",
    "    \"sleep_deep\": \"Duration of deep sleep\",\n",
    "    \"sleep_rem\": \"Duration of REM sleep\",\n",
    "    \"sleep_awake\": \"Duration of awake time during sleep\",\n",
    "    \"step_count\": \"Number of steps taken\",\n",
    "    \"active_energy\": \"Calories burned during activity\",\n",
    "    \"exercise_time\": \"Duration of exercise\",\n",
    "    \"stand_time\": \"Duration of standing\",\n",
    "    \"flights_climbed\": \"Number of flights of stairs climbed\",\n",
    "    \"heart_rate_min\": \"Minimum heart rate\",\n",
    "    \"heart_rate_max\": \"Maximum heart rate\",\n",
    "    \"heart_rate_avg\": \"Average heart rate\",\n",
    "    \"resting_heart_rate\": \"Resting heart rate\",\n",
    "    \"stair_speed_down\": \"Speed while descending stairs\",\n",
    "    \"stair_speed_up\": \"Speed while ascending stairs\"\n",
    "}\n",
    "\n",
    "for _, row in healthDataDim.iterrows():\n",
    "    health_type = row[\"type\"]\n",
    "    unit_of_measurement = row[\"type_unit_of_measurement\"]\n",
    "\n",
    "    if health_type in descriptions:\n",
    "        desc = descriptions[health_type]\n",
    "    else:\n",
    "        desc = None\n",
    "    \n",
    "    c.execute(\"INSERT INTO HealthDim (type, desc, unit_of_measurement) VALUES (?, ?, ?)\",\n",
    "              ( health_type, desc, unit_of_measurement))\n",
    "    \n",
    "conn.commit()"
   ]
  },
  {
   "cell_type": "code",
   "execution_count": 74,
   "id": "838241d5-bbfa-4519-a066-db603dcd8edf",
   "metadata": {},
   "outputs": [
    {
     "data": {
      "text/html": [
       "<div>\n",
       "<style scoped>\n",
       "    .dataframe tbody tr th:only-of-type {\n",
       "        vertical-align: middle;\n",
       "    }\n",
       "\n",
       "    .dataframe tbody tr th {\n",
       "        vertical-align: top;\n",
       "    }\n",
       "\n",
       "    .dataframe thead th {\n",
       "        text-align: right;\n",
       "    }\n",
       "</style>\n",
       "<table border=\"1\" class=\"dataframe\">\n",
       "  <thead>\n",
       "    <tr style=\"text-align: right;\">\n",
       "      <th></th>\n",
       "      <th>id</th>\n",
       "      <th>type</th>\n",
       "      <th>desc</th>\n",
       "      <th>unit_of_measurement</th>\n",
       "    </tr>\n",
       "  </thead>\n",
       "  <tbody>\n",
       "    <tr>\n",
       "      <th>0</th>\n",
       "      <td>1</td>\n",
       "      <td>flights_climbed</td>\n",
       "      <td>Number of flights of stairs climbed</td>\n",
       "      <td>count</td>\n",
       "    </tr>\n",
       "    <tr>\n",
       "      <th>1</th>\n",
       "      <td>2</td>\n",
       "      <td>sleep_asleep</td>\n",
       "      <td>Duration of deep sleep</td>\n",
       "      <td>hr</td>\n",
       "    </tr>\n",
       "    <tr>\n",
       "      <th>2</th>\n",
       "      <td>3</td>\n",
       "      <td>sleep_in_bed</td>\n",
       "      <td>Time spent in bed</td>\n",
       "      <td>hr</td>\n",
       "    </tr>\n",
       "    <tr>\n",
       "      <th>3</th>\n",
       "      <td>4</td>\n",
       "      <td>sleep_core</td>\n",
       "      <td>Duration of sleep cycle</td>\n",
       "      <td>hr</td>\n",
       "    </tr>\n",
       "    <tr>\n",
       "      <th>4</th>\n",
       "      <td>5</td>\n",
       "      <td>sleep_deep</td>\n",
       "      <td>Duration of deep sleep</td>\n",
       "      <td>hr</td>\n",
       "    </tr>\n",
       "    <tr>\n",
       "      <th>5</th>\n",
       "      <td>6</td>\n",
       "      <td>sleep_rem</td>\n",
       "      <td>Duration of REM sleep</td>\n",
       "      <td>hr</td>\n",
       "    </tr>\n",
       "    <tr>\n",
       "      <th>6</th>\n",
       "      <td>7</td>\n",
       "      <td>sleep_awake</td>\n",
       "      <td>Duration of awake time during sleep</td>\n",
       "      <td>hr</td>\n",
       "    </tr>\n",
       "    <tr>\n",
       "      <th>7</th>\n",
       "      <td>8</td>\n",
       "      <td>step_count</td>\n",
       "      <td>Number of steps taken</td>\n",
       "      <td>count</td>\n",
       "    </tr>\n",
       "    <tr>\n",
       "      <th>8</th>\n",
       "      <td>9</td>\n",
       "      <td>active_energy</td>\n",
       "      <td>Calories burned during activity</td>\n",
       "      <td>kcal</td>\n",
       "    </tr>\n",
       "    <tr>\n",
       "      <th>9</th>\n",
       "      <td>10</td>\n",
       "      <td>exercise_time</td>\n",
       "      <td>Duration of exercise</td>\n",
       "      <td>min</td>\n",
       "    </tr>\n",
       "    <tr>\n",
       "      <th>10</th>\n",
       "      <td>11</td>\n",
       "      <td>stand_time</td>\n",
       "      <td>Duration of standing</td>\n",
       "      <td>min</td>\n",
       "    </tr>\n",
       "    <tr>\n",
       "      <th>11</th>\n",
       "      <td>12</td>\n",
       "      <td>basal_energy_burned</td>\n",
       "      <td>Calories burned during rest</td>\n",
       "      <td>kcal</td>\n",
       "    </tr>\n",
       "    <tr>\n",
       "      <th>12</th>\n",
       "      <td>13</td>\n",
       "      <td>heart_rate_min</td>\n",
       "      <td>Minimum heart rate</td>\n",
       "      <td>count/min</td>\n",
       "    </tr>\n",
       "    <tr>\n",
       "      <th>13</th>\n",
       "      <td>14</td>\n",
       "      <td>heart_rate_max</td>\n",
       "      <td>Maximum heart rate</td>\n",
       "      <td>count/min</td>\n",
       "    </tr>\n",
       "    <tr>\n",
       "      <th>14</th>\n",
       "      <td>15</td>\n",
       "      <td>heart_rate_avg</td>\n",
       "      <td>Average heart rate</td>\n",
       "      <td>count/min</td>\n",
       "    </tr>\n",
       "    <tr>\n",
       "      <th>15</th>\n",
       "      <td>16</td>\n",
       "      <td>resting_heart_rate</td>\n",
       "      <td>Resting heart rate</td>\n",
       "      <td>count/min</td>\n",
       "    </tr>\n",
       "    <tr>\n",
       "      <th>16</th>\n",
       "      <td>17</td>\n",
       "      <td>stair_speed_down</td>\n",
       "      <td>Speed while descending stairs</td>\n",
       "      <td>ft/s</td>\n",
       "    </tr>\n",
       "    <tr>\n",
       "      <th>17</th>\n",
       "      <td>18</td>\n",
       "      <td>stair_speed_up</td>\n",
       "      <td>Speed while ascending stairs</td>\n",
       "      <td>ft/s</td>\n",
       "    </tr>\n",
       "  </tbody>\n",
       "</table>\n",
       "</div>"
      ],
      "text/plain": [
       "    id                 type                                 desc  \\\n",
       "0    1      flights_climbed  Number of flights of stairs climbed   \n",
       "1    2         sleep_asleep               Duration of deep sleep   \n",
       "2    3         sleep_in_bed                    Time spent in bed   \n",
       "3    4           sleep_core              Duration of sleep cycle   \n",
       "4    5           sleep_deep               Duration of deep sleep   \n",
       "5    6            sleep_rem                Duration of REM sleep   \n",
       "6    7          sleep_awake  Duration of awake time during sleep   \n",
       "7    8           step_count                Number of steps taken   \n",
       "8    9        active_energy      Calories burned during activity   \n",
       "9   10        exercise_time                 Duration of exercise   \n",
       "10  11           stand_time                 Duration of standing   \n",
       "11  12  basal_energy_burned          Calories burned during rest   \n",
       "12  13       heart_rate_min                   Minimum heart rate   \n",
       "13  14       heart_rate_max                   Maximum heart rate   \n",
       "14  15       heart_rate_avg                   Average heart rate   \n",
       "15  16   resting_heart_rate                   Resting heart rate   \n",
       "16  17     stair_speed_down        Speed while descending stairs   \n",
       "17  18       stair_speed_up         Speed while ascending stairs   \n",
       "\n",
       "   unit_of_measurement  \n",
       "0                count  \n",
       "1                   hr  \n",
       "2                   hr  \n",
       "3                   hr  \n",
       "4                   hr  \n",
       "5                   hr  \n",
       "6                   hr  \n",
       "7                count  \n",
       "8                 kcal  \n",
       "9                  min  \n",
       "10                 min  \n",
       "11                kcal  \n",
       "12           count/min  \n",
       "13           count/min  \n",
       "14           count/min  \n",
       "15           count/min  \n",
       "16                ft/s  \n",
       "17                ft/s  "
      ]
     },
     "execution_count": 74,
     "metadata": {},
     "output_type": "execute_result"
    }
   ],
   "source": [
    "c.execute(\"SELECT * FROM HealthDim\")\n",
    "colnames = [row[0] for row in c.description]\n",
    "df = pd.DataFrame(c.fetchall(), columns=colnames)\n",
    "df"
   ]
  },
  {
   "cell_type": "code",
   "execution_count": null,
   "id": "30349239-e683-41e7-8e2d-f842e95e8a71",
   "metadata": {},
   "outputs": [],
   "source": []
  }
 ],
 "metadata": {
  "kernelspec": {
   "display_name": "Python 3 (ipykernel)",
   "language": "python",
   "name": "python3"
  },
  "language_info": {
   "codemirror_mode": {
    "name": "ipython",
    "version": 3
   },
   "file_extension": ".py",
   "mimetype": "text/x-python",
   "name": "python",
   "nbconvert_exporter": "python",
   "pygments_lexer": "ipython3",
   "version": "3.9.16"
  }
 },
 "nbformat": 4,
 "nbformat_minor": 5
}
