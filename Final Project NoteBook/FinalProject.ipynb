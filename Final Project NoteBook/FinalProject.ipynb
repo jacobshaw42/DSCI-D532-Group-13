{
 "cells": [
  {
   "cell_type": "code",
   "execution_count": 1,
   "id": "08f69994-fe84-48a3-a0ce-eefa635d6557",
   "metadata": {},
   "outputs": [],
   "source": [
    "import pandas as pd"
   ]
  },
  {
   "cell_type": "code",
   "execution_count": 2,
   "id": "88d37a7a-109e-4b54-bc4b-e26cb2d7d0ce",
   "metadata": {},
   "outputs": [],
   "source": [
    "df = pd.read_csv(\"HealthAutoExport-2021-06-01-2022-01-01 Data.csv\")\n",
    "cols = [\n",
    "        \"Date\",\n",
    "        \"Active Energy (kcal)\",\n",
    "        \"Apple Exercise Time (min)\",\n",
    "        \"Apple Stand Time (min)\",\n",
    "        \"Basal Energy Burned (kcal)\",\n",
    "        \"Flights Climbed (count)\",\n",
    "        \"Heart Rate [Min] (count/min)\",\n",
    "        \"Heart Rate [Max] (count/min)\",\n",
    "        \"Heart Rate [Avg] (count/min)\",\n",
    "        \"Resting Heart Rate (count/min)\",\n",
    "        \"Sleep Analysis [Asleep] (hr)\",\n",
    "        \"Sleep Analysis [In Bed] (hr)\",\n",
    "        \"Sleep Analysis [Core] (hr)\",\n",
    "        \"Sleep Analysis [Deep] (hr)\",\n",
    "        \"Sleep Analysis [REM] (hr)\",\n",
    "        \"Sleep Analysis [Awake] (hr)\",\n",
    "        \"Stair Speed: Down (ft/s)\",\n",
    "        \"Stair Speed: Up (ft/s)\",\n",
    "        \"Step Count (count)\",\n",
    "    ]\n",
    "\n",
    "df1 = df.loc[:,cols]\n",
    "#print(df1.head())\n",
    "#print(df1.info())\n",
    "df2 = df1.set_index(\"Date\")\n",
    "df3 = df2.stack().reset_index()\n",
    "df3.rename(columns = {\"level_1\":\"health_data_type\",0:\"value\"}, inplace = True)\n",
    "df3.loc[:,\"type_unit_of_measurement\"] = df3.health_data_type.apply(lambda x: x.split(\" (\")[1][:-1] if \" (\" in x else None)\n",
    "df3.loc[:,\"type\"] = df3.health_data_type.apply(lambda x: x.split(\" (\")[0].replace(\":\",\"\").replace(\"Analysis \",\"\").replace(\"Apple \",\"\").replace(\" \", \"_\").replace(\"[\",\"\").replace(\"]\",\"\").lower() if \" (\" in x else None)\n",
    "df3.loc[:,\"day_of_month\"] = df3.Date.apply(lambda x: x.split(\" \")[0].split(\"-\")[2])\n",
    "df3.loc[:,\"month\"] = df3.Date.apply(lambda x: x.split(\" \")[0].split(\"-\")[1])\n",
    "df3.loc[:,\"year\"] = df3.Date.apply(lambda x: x.split(\" \")[0].split(\"-\")[0])\n",
    "#print(df3.head())\n",
    "#print(df3[\"type\"].unique())\n",
    "\n",
    "types_index = {x:ind for ind,x in enumerate(df3[\"type\"].unique())}\n",
    "date_index = {x:ind for ind,x in enumerate(df3[\"Date\"].unique())}\n",
    "\n",
    "df3.loc[:,\"date_index\"] = df3[\"Date\"].apply(lambda x: date_index[x])\n",
    "df3.loc[:,\"type_index\"] = df3[\"type\"].apply(lambda x: types_index[x])\n",
    "\n",
    "healthDataFact = df3.loc[:,[\"date_index\",\"type_index\",\"value\"]]\n",
    "healthDataDim = df3.loc[:,[\"type_index\",\"type\",\"type_unit_of_measurement\"]].drop_duplicates()\n",
    "dateDim = df3.loc[:,[\"date_index\",\"day_of_month\",\"month\",\"year\"]].drop_duplicates()"
   ]
  },
  {
   "cell_type": "code",
   "execution_count": 3,
   "id": "dfcdc850-5dc8-4cec-a08e-cad049f60c72",
   "metadata": {},
   "outputs": [
    {
     "name": "stdout",
     "output_type": "stream",
     "text": [
      "      date_index  type_index       value\n",
      "0              0           0    2.000000\n",
      "1              0           1    0.000000\n",
      "2              0           2    6.824425\n",
      "3              0           3    0.000000\n",
      "4              0           4    0.000000\n",
      "...          ...         ...         ...\n",
      "3291         214           3    0.000000\n",
      "3292         214           4    0.000000\n",
      "3293         214           5    0.000000\n",
      "3294         214           6    0.000000\n",
      "3295         214           7  485.000000\n",
      "\n",
      "[3296 rows x 3 columns]\n"
     ]
    }
   ],
   "source": [
    "print(healthDataFact)"
   ]
  },
  {
   "cell_type": "code",
   "execution_count": 4,
   "id": "ad80da22-d7c9-490d-97c5-fb98865cde6a",
   "metadata": {},
   "outputs": [
    {
     "name": "stdout",
     "output_type": "stream",
     "text": [
      "     type_index                 type type_unit_of_measurement\n",
      "0             0      flights_climbed                    count\n",
      "1             1         sleep_asleep                       hr\n",
      "2             2         sleep_in_bed                       hr\n",
      "3             3           sleep_core                       hr\n",
      "4             4           sleep_deep                       hr\n",
      "5             5            sleep_rem                       hr\n",
      "6             6          sleep_awake                       hr\n",
      "7             7           step_count                    count\n",
      "146           8        active_energy                     kcal\n",
      "147           9        exercise_time                      min\n",
      "148          10           stand_time                      min\n",
      "149          11  basal_energy_burned                     kcal\n",
      "151          12       heart_rate_min                count/min\n",
      "152          13       heart_rate_max                count/min\n",
      "153          14       heart_rate_avg                count/min\n",
      "154          15   resting_heart_rate                count/min\n",
      "161          16     stair_speed_down                     ft/s\n",
      "162          17       stair_speed_up                     ft/s\n"
     ]
    }
   ],
   "source": [
    "print(healthDataDim)"
   ]
  },
  {
   "cell_type": "code",
   "execution_count": 5,
   "id": "ddd1cacb-513c-45f5-90cd-945707b67cc3",
   "metadata": {},
   "outputs": [
    {
     "name": "stdout",
     "output_type": "stream",
     "text": [
      "      date_index day_of_month month  year\n",
      "0              0           01    06  2021\n",
      "8              1           02    06  2021\n",
      "16             2           03    06  2021\n",
      "24             3           04    06  2021\n",
      "32             4           05    06  2021\n",
      "...          ...          ...   ...   ...\n",
      "3217         210           28    12  2021\n",
      "3233         211           29    12  2021\n",
      "3251         212           30    12  2021\n",
      "3263         213           31    12  2021\n",
      "3281         214           01    01  2022\n",
      "\n",
      "[215 rows x 4 columns]\n"
     ]
    }
   ],
   "source": [
    "print(dateDim)"
   ]
  },
  {
   "cell_type": "code",
   "execution_count": 6,
   "id": "64a5ca91-a915-4f06-9f03-1177d450860f",
   "metadata": {},
   "outputs": [],
   "source": [
    "import sqlite3"
   ]
  },
  {
   "cell_type": "code",
   "execution_count": 7,
   "id": "759729b5-8e69-43de-8ae2-b09be8a3a545",
   "metadata": {},
   "outputs": [],
   "source": [
    "conn = sqlite3.connect('FinalProject.db')\n",
    "c = conn.cursor()"
   ]
  },
  {
   "cell_type": "code",
   "execution_count": 31,
   "id": "96a7b10f-7580-437f-ab7d-b51969c32150",
   "metadata": {},
   "outputs": [
    {
     "data": {
      "text/plain": [
       "<sqlite3.Cursor at 0x13d55609880>"
      ]
     },
     "execution_count": 31,
     "metadata": {},
     "output_type": "execute_result"
    }
   ],
   "source": [
    "c.execute(\"DROP TABLE IF EXISTS HealthFact;\")"
   ]
  },
  {
   "cell_type": "code",
   "execution_count": 32,
   "id": "da95371a-f10e-4bd4-8742-2ad2f9fcc564",
   "metadata": {},
   "outputs": [
    {
     "data": {
      "text/plain": [
       "<sqlite3.Cursor at 0x13d55609880>"
      ]
     },
     "execution_count": 32,
     "metadata": {},
     "output_type": "execute_result"
    }
   ],
   "source": [
    "c.execute('''CREATE TABLE HealthFact(\n",
    "    id INTEGER PRIMARY KEY,\n",
    "    user_id INTEGER,\n",
    "    date_id INTEGER,\n",
    "    healthData_id INTEGER,\n",
    "    value NUMERIC (10,2)\n",
    ");''')"
   ]
  },
  {
   "cell_type": "code",
   "execution_count": 10,
   "id": "cdb18c92-4c01-4723-b8e1-45b2da24f860",
   "metadata": {},
   "outputs": [
    {
     "data": {
      "text/plain": [
       "<sqlite3.Cursor at 0x13d55609880>"
      ]
     },
     "execution_count": 10,
     "metadata": {},
     "output_type": "execute_result"
    }
   ],
   "source": [
    "c.execute('''CREATE TABLE UserDim(\n",
    "    id INTEGER PRIMARY KEY,\n",
    "    name VARCHAR (100),\n",
    "    email VARCHAR (100)\n",
    ");''')"
   ]
  },
  {
   "cell_type": "code",
   "execution_count": 11,
   "id": "2dd8edb0-0243-4ff5-9ef3-b6fa9cfbae3b",
   "metadata": {},
   "outputs": [
    {
     "data": {
      "text/plain": [
       "<sqlite3.Cursor at 0x13d55609880>"
      ]
     },
     "execution_count": 11,
     "metadata": {},
     "output_type": "execute_result"
    }
   ],
   "source": [
    "c.execute('''CREATE TABLE DateDim(\n",
    "    id INTEGER PRIMARY KEY,\n",
    "    day INTEGER (2),\n",
    "    month INTEGER (2),\n",
    "    year INTEGER (4)\n",
    ");''')"
   ]
  },
  {
   "cell_type": "code",
   "execution_count": 12,
   "id": "98fefc64-e989-4b16-ba0e-68bede64244d",
   "metadata": {},
   "outputs": [
    {
     "data": {
      "text/plain": [
       "<sqlite3.Cursor at 0x13d55609880>"
      ]
     },
     "execution_count": 12,
     "metadata": {},
     "output_type": "execute_result"
    }
   ],
   "source": [
    "c.execute('''CREATE TABLE HealthDim(\n",
    "    id INTEGER PRIMARY KEY,\n",
    "    type VARCHAR (25),\n",
    "    desc VARCHAR (255),\n",
    "    unit_of_measurement VARCHAR (20)\n",
    ");''')"
   ]
  },
  {
   "cell_type": "code",
   "execution_count": 38,
   "id": "971ad561-22c9-4bf4-8cbd-13ba1559f5ff",
   "metadata": {},
   "outputs": [
    {
     "data": {
      "text/plain": [
       "<sqlite3.Cursor at 0x13d55609880>"
      ]
     },
     "execution_count": 38,
     "metadata": {},
     "output_type": "execute_result"
    }
   ],
   "source": [
    "c.execute('''CREATE TABLE HealthClassifier(\n",
    "    id INTEGER PRIMARY KEY,\n",
    "    healthData_id INTEGER,\n",
    "    classifier VARCHAR (25),\n",
    "    min NUMERIC,\n",
    "    max NUMERIC\n",
    ");''')"
   ]
  },
  {
   "cell_type": "code",
   "execution_count": 13,
   "id": "166f44e1-5264-4ade-96bd-0b66a7f4d8b6",
   "metadata": {},
   "outputs": [],
   "source": [
    "for _, row in dateDim.iterrows():\n",
    "    day = row[\"day_of_month\"]\n",
    "    month = row[\"month\"]\n",
    "    year = row[\"year\"]\n",
    "\n",
    "    c.execute(\"INSERT INTO DateDim (day, month, year) VALUES (?, ?, ?)\", (day, month, year))"
   ]
  },
  {
   "cell_type": "code",
   "execution_count": 29,
   "id": "0d9c1e84-0a8f-4c01-87dc-3f5578c8871c",
   "metadata": {},
   "outputs": [
    {
     "data": {
      "text/html": [
       "<div>\n",
       "<style scoped>\n",
       "    .dataframe tbody tr th:only-of-type {\n",
       "        vertical-align: middle;\n",
       "    }\n",
       "\n",
       "    .dataframe tbody tr th {\n",
       "        vertical-align: top;\n",
       "    }\n",
       "\n",
       "    .dataframe thead th {\n",
       "        text-align: right;\n",
       "    }\n",
       "</style>\n",
       "<table border=\"1\" class=\"dataframe\">\n",
       "  <thead>\n",
       "    <tr style=\"text-align: right;\">\n",
       "      <th></th>\n",
       "      <th>id</th>\n",
       "      <th>day</th>\n",
       "      <th>month</th>\n",
       "      <th>year</th>\n",
       "    </tr>\n",
       "  </thead>\n",
       "  <tbody>\n",
       "    <tr>\n",
       "      <th>0</th>\n",
       "      <td>1</td>\n",
       "      <td>1</td>\n",
       "      <td>6</td>\n",
       "      <td>2021</td>\n",
       "    </tr>\n",
       "    <tr>\n",
       "      <th>1</th>\n",
       "      <td>2</td>\n",
       "      <td>2</td>\n",
       "      <td>6</td>\n",
       "      <td>2021</td>\n",
       "    </tr>\n",
       "    <tr>\n",
       "      <th>2</th>\n",
       "      <td>3</td>\n",
       "      <td>3</td>\n",
       "      <td>6</td>\n",
       "      <td>2021</td>\n",
       "    </tr>\n",
       "    <tr>\n",
       "      <th>3</th>\n",
       "      <td>4</td>\n",
       "      <td>4</td>\n",
       "      <td>6</td>\n",
       "      <td>2021</td>\n",
       "    </tr>\n",
       "    <tr>\n",
       "      <th>4</th>\n",
       "      <td>5</td>\n",
       "      <td>5</td>\n",
       "      <td>6</td>\n",
       "      <td>2021</td>\n",
       "    </tr>\n",
       "  </tbody>\n",
       "</table>\n",
       "</div>"
      ],
      "text/plain": [
       "   id  day  month  year\n",
       "0   1    1      6  2021\n",
       "1   2    2      6  2021\n",
       "2   3    3      6  2021\n",
       "3   4    4      6  2021\n",
       "4   5    5      6  2021"
      ]
     },
     "execution_count": 29,
     "metadata": {},
     "output_type": "execute_result"
    }
   ],
   "source": [
    "c.execute(\"SELECT * FROM DateDim\")\n",
    "colnames = [row[0] for row in c.description]\n",
    "df = pd.DataFrame(c.fetchall(), columns=colnames)\n",
    "df.head()"
   ]
  },
  {
   "cell_type": "code",
   "execution_count": 34,
   "id": "a43a1766-0763-411a-8e9f-76e235e68769",
   "metadata": {},
   "outputs": [],
   "source": [
    "user_id = 1\n",
    "\n",
    "for _, row in healthDataFact.iterrows():\n",
    "    date_id = row[\"date_index\"]\n",
    "    healthData_id = row[\"type_index\"]\n",
    "    value = row[\"value\"]\n",
    "\n",
    "    c.execute(\"INSERT INTO HealthFact (user_id, date_id, healthData_id, value) VALUES (?, ?, ?, ?)\", (user_id, date_id, healthData_id, value))"
   ]
  },
  {
   "cell_type": "code",
   "execution_count": 37,
   "id": "ba46c0d2-9465-4a62-8749-fef393e4aed9",
   "metadata": {},
   "outputs": [
    {
     "data": {
      "text/html": [
       "<div>\n",
       "<style scoped>\n",
       "    .dataframe tbody tr th:only-of-type {\n",
       "        vertical-align: middle;\n",
       "    }\n",
       "\n",
       "    .dataframe tbody tr th {\n",
       "        vertical-align: top;\n",
       "    }\n",
       "\n",
       "    .dataframe thead th {\n",
       "        text-align: right;\n",
       "    }\n",
       "</style>\n",
       "<table border=\"1\" class=\"dataframe\">\n",
       "  <thead>\n",
       "    <tr style=\"text-align: right;\">\n",
       "      <th></th>\n",
       "      <th>id</th>\n",
       "      <th>user_id</th>\n",
       "      <th>date_id</th>\n",
       "      <th>healthData_id</th>\n",
       "      <th>value</th>\n",
       "    </tr>\n",
       "  </thead>\n",
       "  <tbody>\n",
       "    <tr>\n",
       "      <th>0</th>\n",
       "      <td>1</td>\n",
       "      <td>1</td>\n",
       "      <td>0</td>\n",
       "      <td>0</td>\n",
       "      <td>2.000000</td>\n",
       "    </tr>\n",
       "    <tr>\n",
       "      <th>1</th>\n",
       "      <td>2</td>\n",
       "      <td>1</td>\n",
       "      <td>0</td>\n",
       "      <td>1</td>\n",
       "      <td>0.000000</td>\n",
       "    </tr>\n",
       "    <tr>\n",
       "      <th>2</th>\n",
       "      <td>3</td>\n",
       "      <td>1</td>\n",
       "      <td>0</td>\n",
       "      <td>2</td>\n",
       "      <td>6.824425</td>\n",
       "    </tr>\n",
       "    <tr>\n",
       "      <th>3</th>\n",
       "      <td>4</td>\n",
       "      <td>1</td>\n",
       "      <td>0</td>\n",
       "      <td>3</td>\n",
       "      <td>0.000000</td>\n",
       "    </tr>\n",
       "    <tr>\n",
       "      <th>4</th>\n",
       "      <td>5</td>\n",
       "      <td>1</td>\n",
       "      <td>0</td>\n",
       "      <td>4</td>\n",
       "      <td>0.000000</td>\n",
       "    </tr>\n",
       "  </tbody>\n",
       "</table>\n",
       "</div>"
      ],
      "text/plain": [
       "   id  user_id  date_id  healthData_id     value\n",
       "0   1        1        0              0  2.000000\n",
       "1   2        1        0              1  0.000000\n",
       "2   3        1        0              2  6.824425\n",
       "3   4        1        0              3  0.000000\n",
       "4   5        1        0              4  0.000000"
      ]
     },
     "execution_count": 37,
     "metadata": {},
     "output_type": "execute_result"
    }
   ],
   "source": [
    "c.execute(\"SELECT * FROM HealthFact\")\n",
    "colnames = [row[0] for row in c.description]\n",
    "df = pd.DataFrame(c.fetchall(), columns=colnames)\n",
    "df.head()"
   ]
  },
  {
   "cell_type": "code",
   "execution_count": 19,
   "id": "99c867e4-4485-405b-9cd2-89703e7ca589",
   "metadata": {},
   "outputs": [],
   "source": [
    "desc = \"Change this\"\n",
    "\n",
    "for _, row in healthDataDim.iterrows():\n",
    "    health_type = row[\"type\"]\n",
    "    unit_of_measurement = row[\"type_unit_of_measurement\"]\n",
    "\n",
    "    c.execute(\"INSERT INTO HealthDim (type, desc, unit_of_measurement) VALUES (?, ?, ?)\",\n",
    "              ( health_type, desc, unit_of_measurement))"
   ]
  },
  {
   "cell_type": "code",
   "execution_count": 30,
   "id": "838241d5-bbfa-4519-a066-db603dcd8edf",
   "metadata": {},
   "outputs": [
    {
     "data": {
      "text/html": [
       "<div>\n",
       "<style scoped>\n",
       "    .dataframe tbody tr th:only-of-type {\n",
       "        vertical-align: middle;\n",
       "    }\n",
       "\n",
       "    .dataframe tbody tr th {\n",
       "        vertical-align: top;\n",
       "    }\n",
       "\n",
       "    .dataframe thead th {\n",
       "        text-align: right;\n",
       "    }\n",
       "</style>\n",
       "<table border=\"1\" class=\"dataframe\">\n",
       "  <thead>\n",
       "    <tr style=\"text-align: right;\">\n",
       "      <th></th>\n",
       "      <th>id</th>\n",
       "      <th>type</th>\n",
       "      <th>desc</th>\n",
       "      <th>unit_of_measurement</th>\n",
       "    </tr>\n",
       "  </thead>\n",
       "  <tbody>\n",
       "    <tr>\n",
       "      <th>0</th>\n",
       "      <td>1</td>\n",
       "      <td>flights_climbed</td>\n",
       "      <td>Change this</td>\n",
       "      <td>count</td>\n",
       "    </tr>\n",
       "    <tr>\n",
       "      <th>1</th>\n",
       "      <td>2</td>\n",
       "      <td>sleep_asleep</td>\n",
       "      <td>Change this</td>\n",
       "      <td>hr</td>\n",
       "    </tr>\n",
       "    <tr>\n",
       "      <th>2</th>\n",
       "      <td>3</td>\n",
       "      <td>sleep_in_bed</td>\n",
       "      <td>Change this</td>\n",
       "      <td>hr</td>\n",
       "    </tr>\n",
       "    <tr>\n",
       "      <th>3</th>\n",
       "      <td>4</td>\n",
       "      <td>sleep_core</td>\n",
       "      <td>Change this</td>\n",
       "      <td>hr</td>\n",
       "    </tr>\n",
       "    <tr>\n",
       "      <th>4</th>\n",
       "      <td>5</td>\n",
       "      <td>sleep_deep</td>\n",
       "      <td>Change this</td>\n",
       "      <td>hr</td>\n",
       "    </tr>\n",
       "    <tr>\n",
       "      <th>5</th>\n",
       "      <td>6</td>\n",
       "      <td>sleep_rem</td>\n",
       "      <td>Change this</td>\n",
       "      <td>hr</td>\n",
       "    </tr>\n",
       "    <tr>\n",
       "      <th>6</th>\n",
       "      <td>7</td>\n",
       "      <td>sleep_awake</td>\n",
       "      <td>Change this</td>\n",
       "      <td>hr</td>\n",
       "    </tr>\n",
       "    <tr>\n",
       "      <th>7</th>\n",
       "      <td>8</td>\n",
       "      <td>step_count</td>\n",
       "      <td>Change this</td>\n",
       "      <td>count</td>\n",
       "    </tr>\n",
       "    <tr>\n",
       "      <th>8</th>\n",
       "      <td>9</td>\n",
       "      <td>active_energy</td>\n",
       "      <td>Change this</td>\n",
       "      <td>kcal</td>\n",
       "    </tr>\n",
       "    <tr>\n",
       "      <th>9</th>\n",
       "      <td>10</td>\n",
       "      <td>exercise_time</td>\n",
       "      <td>Change this</td>\n",
       "      <td>min</td>\n",
       "    </tr>\n",
       "    <tr>\n",
       "      <th>10</th>\n",
       "      <td>11</td>\n",
       "      <td>stand_time</td>\n",
       "      <td>Change this</td>\n",
       "      <td>min</td>\n",
       "    </tr>\n",
       "    <tr>\n",
       "      <th>11</th>\n",
       "      <td>12</td>\n",
       "      <td>basal_energy_burned</td>\n",
       "      <td>Change this</td>\n",
       "      <td>kcal</td>\n",
       "    </tr>\n",
       "    <tr>\n",
       "      <th>12</th>\n",
       "      <td>13</td>\n",
       "      <td>heart_rate_min</td>\n",
       "      <td>Change this</td>\n",
       "      <td>count/min</td>\n",
       "    </tr>\n",
       "    <tr>\n",
       "      <th>13</th>\n",
       "      <td>14</td>\n",
       "      <td>heart_rate_max</td>\n",
       "      <td>Change this</td>\n",
       "      <td>count/min</td>\n",
       "    </tr>\n",
       "    <tr>\n",
       "      <th>14</th>\n",
       "      <td>15</td>\n",
       "      <td>heart_rate_avg</td>\n",
       "      <td>Change this</td>\n",
       "      <td>count/min</td>\n",
       "    </tr>\n",
       "    <tr>\n",
       "      <th>15</th>\n",
       "      <td>16</td>\n",
       "      <td>resting_heart_rate</td>\n",
       "      <td>Change this</td>\n",
       "      <td>count/min</td>\n",
       "    </tr>\n",
       "    <tr>\n",
       "      <th>16</th>\n",
       "      <td>17</td>\n",
       "      <td>stair_speed_down</td>\n",
       "      <td>Change this</td>\n",
       "      <td>ft/s</td>\n",
       "    </tr>\n",
       "    <tr>\n",
       "      <th>17</th>\n",
       "      <td>18</td>\n",
       "      <td>stair_speed_up</td>\n",
       "      <td>Change this</td>\n",
       "      <td>ft/s</td>\n",
       "    </tr>\n",
       "  </tbody>\n",
       "</table>\n",
       "</div>"
      ],
      "text/plain": [
       "    id                 type         desc unit_of_measurement\n",
       "0    1      flights_climbed  Change this               count\n",
       "1    2         sleep_asleep  Change this                  hr\n",
       "2    3         sleep_in_bed  Change this                  hr\n",
       "3    4           sleep_core  Change this                  hr\n",
       "4    5           sleep_deep  Change this                  hr\n",
       "5    6            sleep_rem  Change this                  hr\n",
       "6    7          sleep_awake  Change this                  hr\n",
       "7    8           step_count  Change this               count\n",
       "8    9        active_energy  Change this                kcal\n",
       "9   10        exercise_time  Change this                 min\n",
       "10  11           stand_time  Change this                 min\n",
       "11  12  basal_energy_burned  Change this                kcal\n",
       "12  13       heart_rate_min  Change this           count/min\n",
       "13  14       heart_rate_max  Change this           count/min\n",
       "14  15       heart_rate_avg  Change this           count/min\n",
       "15  16   resting_heart_rate  Change this           count/min\n",
       "16  17     stair_speed_down  Change this                ft/s\n",
       "17  18       stair_speed_up  Change this                ft/s"
      ]
     },
     "execution_count": 30,
     "metadata": {},
     "output_type": "execute_result"
    }
   ],
   "source": [
    "c.execute(\"SELECT * FROM HealthDim\")\n",
    "colnames = [row[0] for row in c.description]\n",
    "df = pd.DataFrame(c.fetchall(), columns=colnames)\n",
    "df"
   ]
  },
  {
   "cell_type": "code",
   "execution_count": null,
   "id": "30349239-e683-41e7-8e2d-f842e95e8a71",
   "metadata": {},
   "outputs": [],
   "source": []
  }
 ],
 "metadata": {
  "kernelspec": {
   "display_name": "Python 3 (ipykernel)",
   "language": "python",
   "name": "python3"
  },
  "language_info": {
   "codemirror_mode": {
    "name": "ipython",
    "version": 3
   },
   "file_extension": ".py",
   "mimetype": "text/x-python",
   "name": "python",
   "nbconvert_exporter": "python",
   "pygments_lexer": "ipython3",
   "version": "3.9.16"
  }
 },
 "nbformat": 4,
 "nbformat_minor": 5
}
