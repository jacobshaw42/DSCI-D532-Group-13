{
 "cells": [
  {
   "cell_type": "code",
   "execution_count": 1,
   "id": "08f69994-fe84-48a3-a0ce-eefa635d6557",
   "metadata": {},
   "outputs": [],
   "source": [
    "import pandas as pd"
   ]
  },
  {
   "cell_type": "code",
   "execution_count": 2,
   "id": "88d37a7a-109e-4b54-bc4b-e26cb2d7d0ce",
   "metadata": {},
   "outputs": [],
   "source": [
    "df = pd.read_csv(\"HealthAutoExport-2021-06-01-2023-06-20 Data.csv\")\n",
    "cols = [\n",
    "        \"Date\",\n",
    "        \"Active Energy (kcal)\",\n",
    "        \"Apple Exercise Time (min)\",\n",
    "        \"Apple Stand Time (min)\",\n",
    "        \"Basal Energy Burned (kcal)\",\n",
    "        \"Flights Climbed (count)\",\n",
    "        \"Heart Rate [Min] (count/min)\",\n",
    "        \"Heart Rate [Max] (count/min)\",\n",
    "        \"Heart Rate [Avg] (count/min)\",\n",
    "        \"Resting Heart Rate (count/min)\",\n",
    "        \"Sleep Analysis [Asleep] (hr)\",\n",
    "        \"Sleep Analysis [In Bed] (hr)\",\n",
    "        \"Sleep Analysis [Core] (hr)\",\n",
    "        \"Sleep Analysis [Deep] (hr)\",\n",
    "        \"Sleep Analysis [REM] (hr)\",\n",
    "        \"Sleep Analysis [Awake] (hr)\",\n",
    "        \"Stair Speed: Down (ft/s)\",\n",
    "        \"Stair Speed: Up (ft/s)\",\n",
    "        \"Step Count (count)\",\n",
    "    ]\n",
    "\n",
    "df1 = df.loc[:,cols]\n",
    "df2 = df1.set_index(\"Date\")\n",
    "df3 = df2.stack().reset_index()\n",
    "df3.rename(columns = {\"level_1\":\"health_data_type\",0:\"value\"}, inplace = True)\n",
    "df3.loc[:,\"type_unit_of_measurement\"] = df3.health_data_type.apply(lambda x: x.split(\" (\")[1][:-1] if \" (\" in x else None)\n",
    "df3.loc[:,\"type\"] = df3.health_data_type.apply(lambda x: x.split(\" (\")[0].replace(\":\",\"\").replace(\"Analysis \",\"\").replace(\"Apple \",\"\").replace(\" \", \"_\").replace(\"[\",\"\").replace(\"]\",\"\").lower() if \" (\" in x else None)\n",
    "df3[\"day_of_month\"] = pd.to_datetime(df3[\"Date\"]).dt.day\n",
    "df3[\"month\"] = pd.to_datetime(df3[\"Date\"]).dt.month\n",
    "df3[\"year\"] = pd.to_datetime(df3[\"Date\"]).dt.year\n",
    "\n",
    "types_index = {x:ind for ind,x in enumerate(df3[\"type\"].unique())}\n",
    "date_index = {x:ind for ind,x in enumerate(df3[\"Date\"].unique())}\n",
    "\n",
    "df3.loc[:,\"date_index\"] = df3[\"Date\"].apply(lambda x: date_index[x])\n",
    "df3.loc[:,\"type_index\"] = df3[\"type\"].apply(lambda x: types_index[x])\n",
    "\n",
    "healthDataFact = df3.loc[:,[\"date_index\",\"type_index\",\"value\"]]\n",
    "healthDataDim = df3.loc[:,[\"type_index\",\"type\",\"type_unit_of_measurement\"]].drop_duplicates()\n",
    "dateDim = df3.loc[:,[\"date_index\",\"day_of_month\",\"month\",\"year\"]].drop_duplicates()"
   ]
  },
  {
   "cell_type": "code",
   "execution_count": 3,
   "id": "dfcdc850-5dc8-4cec-a08e-cad049f60c72",
   "metadata": {},
   "outputs": [
    {
     "name": "stdout",
     "output_type": "stream",
     "text": [
      "       date_index  type_index        value\n",
      "0               0           0     2.000000\n",
      "1               0           1     0.000000\n",
      "2               0           2     6.824425\n",
      "3               0           3     0.000000\n",
      "4               0           4     0.000000\n",
      "...           ...         ...          ...\n",
      "10656         749           5     0.708333\n",
      "10657         749           6     0.416667\n",
      "10658         749          16     1.110000\n",
      "10659         749          17     0.983000\n",
      "10660         749           7  6069.000000\n",
      "\n",
      "[10661 rows x 3 columns]\n"
     ]
    }
   ],
   "source": [
    "print(healthDataFact)"
   ]
  },
  {
   "cell_type": "code",
   "execution_count": 4,
   "id": "ad80da22-d7c9-490d-97c5-fb98865cde6a",
   "metadata": {},
   "outputs": [
    {
     "name": "stdout",
     "output_type": "stream",
     "text": [
      "     type_index                 type type_unit_of_measurement\n",
      "0             0      flights_climbed                    count\n",
      "1             1         sleep_asleep                       hr\n",
      "2             2         sleep_in_bed                       hr\n",
      "3             3           sleep_core                       hr\n",
      "4             4           sleep_deep                       hr\n",
      "5             5            sleep_rem                       hr\n",
      "6             6          sleep_awake                       hr\n",
      "7             7           step_count                    count\n",
      "146           8        active_energy                     kcal\n",
      "147           9        exercise_time                      min\n",
      "148          10           stand_time                      min\n",
      "149          11  basal_energy_burned                     kcal\n",
      "151          12       heart_rate_min                count/min\n",
      "152          13       heart_rate_max                count/min\n",
      "153          14       heart_rate_avg                count/min\n",
      "154          15   resting_heart_rate                count/min\n",
      "161          16     stair_speed_down                     ft/s\n",
      "162          17       stair_speed_up                     ft/s\n"
     ]
    }
   ],
   "source": [
    "print(healthDataDim)"
   ]
  },
  {
   "cell_type": "code",
   "execution_count": 5,
   "id": "ddd1cacb-513c-45f5-90cd-945707b67cc3",
   "metadata": {},
   "outputs": [
    {
     "name": "stdout",
     "output_type": "stream",
     "text": [
      "       date_index  day_of_month  month  year\n",
      "0               0             1      6  2021\n",
      "8               1             2      6  2021\n",
      "16              2             3      6  2021\n",
      "24              3             4      6  2021\n",
      "32              4             5      6  2021\n",
      "...           ...           ...    ...   ...\n",
      "10596         745            16      6  2023\n",
      "10604         746            17      6  2023\n",
      "10622         747            18      6  2023\n",
      "10631         748            19      6  2023\n",
      "10643         749            20      6  2023\n",
      "\n",
      "[750 rows x 4 columns]\n"
     ]
    }
   ],
   "source": [
    "print(dateDim)"
   ]
  },
  {
   "cell_type": "code",
   "execution_count": 6,
   "id": "64a5ca91-a915-4f06-9f03-1177d450860f",
   "metadata": {},
   "outputs": [],
   "source": [
    "import sqlite3"
   ]
  },
  {
   "cell_type": "code",
   "execution_count": 7,
   "id": "759729b5-8e69-43de-8ae2-b09be8a3a545",
   "metadata": {},
   "outputs": [],
   "source": [
    "conn = sqlite3.connect('FinalProject.db')\n",
    "c = conn.cursor()"
   ]
  },
  {
   "cell_type": "code",
   "execution_count": 8,
   "id": "96a7b10f-7580-437f-ab7d-b51969c32150",
   "metadata": {},
   "outputs": [
    {
     "data": {
      "text/plain": [
       "<sqlite3.Cursor at 0x16cb0358ce0>"
      ]
     },
     "execution_count": 8,
     "metadata": {},
     "output_type": "execute_result"
    }
   ],
   "source": [
    "c.execute(\"DROP TABLE IF EXISTS HealthFact;\")"
   ]
  },
  {
   "cell_type": "code",
   "execution_count": 9,
   "id": "da95371a-f10e-4bd4-8742-2ad2f9fcc564",
   "metadata": {},
   "outputs": [
    {
     "data": {
      "text/plain": [
       "<sqlite3.Cursor at 0x16cb0358ce0>"
      ]
     },
     "execution_count": 9,
     "metadata": {},
     "output_type": "execute_result"
    }
   ],
   "source": [
    "c.execute('''CREATE TABLE HealthFact(\n",
    "    id INTEGER PRIMARY KEY,\n",
    "    user_id INTEGER,\n",
    "    date_id INTEGER,\n",
    "    healthData_id INTEGER,\n",
    "    value NUMERIC (10,2)\n",
    ");''')"
   ]
  },
  {
   "cell_type": "code",
   "execution_count": 10,
   "id": "662985ba-a498-47a2-a388-edbbb7d24df3",
   "metadata": {},
   "outputs": [
    {
     "data": {
      "text/plain": [
       "<sqlite3.Cursor at 0x16cb0358ce0>"
      ]
     },
     "execution_count": 10,
     "metadata": {},
     "output_type": "execute_result"
    }
   ],
   "source": [
    "c.execute(\"DROP TABLE IF EXISTS UserDim;\")"
   ]
  },
  {
   "cell_type": "code",
   "execution_count": 11,
   "id": "cdb18c92-4c01-4723-b8e1-45b2da24f860",
   "metadata": {},
   "outputs": [
    {
     "data": {
      "text/plain": [
       "<sqlite3.Cursor at 0x16cb0358ce0>"
      ]
     },
     "execution_count": 11,
     "metadata": {},
     "output_type": "execute_result"
    }
   ],
   "source": [
    "c.execute('''CREATE TABLE UserDim(\n",
    "    id INTEGER PRIMARY KEY,\n",
    "    name VARCHAR (100),\n",
    "    email VARCHAR (100)\n",
    ");''')"
   ]
  },
  {
   "cell_type": "code",
   "execution_count": 12,
   "id": "ee2a4c41-5fc4-451c-82cd-f5381b2636a4",
   "metadata": {},
   "outputs": [
    {
     "data": {
      "text/plain": [
       "<sqlite3.Cursor at 0x16cb0358ce0>"
      ]
     },
     "execution_count": 12,
     "metadata": {},
     "output_type": "execute_result"
    }
   ],
   "source": [
    "c.execute(\"DROP TABLE IF EXISTS DateDim;\")"
   ]
  },
  {
   "cell_type": "code",
   "execution_count": 13,
   "id": "2dd8edb0-0243-4ff5-9ef3-b6fa9cfbae3b",
   "metadata": {},
   "outputs": [
    {
     "data": {
      "text/plain": [
       "<sqlite3.Cursor at 0x16cb0358ce0>"
      ]
     },
     "execution_count": 13,
     "metadata": {},
     "output_type": "execute_result"
    }
   ],
   "source": [
    "c.execute('''CREATE TABLE DateDim(\n",
    "    id INTEGER PRIMARY KEY,\n",
    "    day INTEGER (2),\n",
    "    month INTEGER (2),\n",
    "    year INTEGER (4)\n",
    ");''')"
   ]
  },
  {
   "cell_type": "code",
   "execution_count": 14,
   "id": "511ca542-978f-422d-abb2-9f872f3f3e60",
   "metadata": {},
   "outputs": [
    {
     "data": {
      "text/plain": [
       "<sqlite3.Cursor at 0x16cb0358ce0>"
      ]
     },
     "execution_count": 14,
     "metadata": {},
     "output_type": "execute_result"
    }
   ],
   "source": [
    "c.execute(\"DROP TABLE IF EXISTS HealthDim;\")"
   ]
  },
  {
   "cell_type": "code",
   "execution_count": 15,
   "id": "98fefc64-e989-4b16-ba0e-68bede64244d",
   "metadata": {},
   "outputs": [
    {
     "data": {
      "text/plain": [
       "<sqlite3.Cursor at 0x16cb0358ce0>"
      ]
     },
     "execution_count": 15,
     "metadata": {},
     "output_type": "execute_result"
    }
   ],
   "source": [
    "c.execute('''CREATE TABLE HealthDim(\n",
    "    id INTEGER PRIMARY KEY,\n",
    "    type VARCHAR (25),\n",
    "    desc VARCHAR (255),\n",
    "    unit_of_measurement VARCHAR (20)\n",
    ");''')"
   ]
  },
  {
   "cell_type": "code",
   "execution_count": 16,
   "id": "cd527ccb-4f6f-4925-bcbc-c16d14f2114e",
   "metadata": {},
   "outputs": [
    {
     "data": {
      "text/plain": [
       "<sqlite3.Cursor at 0x16cb0358ce0>"
      ]
     },
     "execution_count": 16,
     "metadata": {},
     "output_type": "execute_result"
    }
   ],
   "source": [
    "c.execute(\"DROP TABLE IF EXISTS HealthClassifier;\")"
   ]
  },
  {
   "cell_type": "code",
   "execution_count": 17,
   "id": "971ad561-22c9-4bf4-8cbd-13ba1559f5ff",
   "metadata": {},
   "outputs": [
    {
     "data": {
      "text/plain": [
       "<sqlite3.Cursor at 0x16cb0358ce0>"
      ]
     },
     "execution_count": 17,
     "metadata": {},
     "output_type": "execute_result"
    }
   ],
   "source": [
    "c.execute('''CREATE TABLE HealthClassifier(\n",
    "    id INTEGER PRIMARY KEY,\n",
    "    healthData_id INTEGER,\n",
    "    classifier VARCHAR (25),\n",
    "    lower_bound NUMERIC,\n",
    "    upper_bound NUMERIC\n",
    ");''')"
   ]
  },
  {
   "cell_type": "code",
   "execution_count": 18,
   "id": "166f44e1-5264-4ade-96bd-0b66a7f4d8b6",
   "metadata": {},
   "outputs": [],
   "source": [
    "for _, row in dateDim.iterrows():\n",
    "    day = int(row[\"day_of_month\"])\n",
    "    month = int(row[\"month\"])\n",
    "    year = int(row[\"year\"])\n",
    "\n",
    "    c.execute(\"INSERT INTO DateDim (day, month, year) VALUES (?, ?, ?)\", (day, month, year))\n",
    "    \n",
    "conn.commit()"
   ]
  },
  {
   "cell_type": "code",
   "execution_count": 19,
   "id": "0d9c1e84-0a8f-4c01-87dc-3f5578c8871c",
   "metadata": {},
   "outputs": [
    {
     "data": {
      "text/html": [
       "<div>\n",
       "<style scoped>\n",
       "    .dataframe tbody tr th:only-of-type {\n",
       "        vertical-align: middle;\n",
       "    }\n",
       "\n",
       "    .dataframe tbody tr th {\n",
       "        vertical-align: top;\n",
       "    }\n",
       "\n",
       "    .dataframe thead th {\n",
       "        text-align: right;\n",
       "    }\n",
       "</style>\n",
       "<table border=\"1\" class=\"dataframe\">\n",
       "  <thead>\n",
       "    <tr style=\"text-align: right;\">\n",
       "      <th></th>\n",
       "      <th>id</th>\n",
       "      <th>day</th>\n",
       "      <th>month</th>\n",
       "      <th>year</th>\n",
       "    </tr>\n",
       "  </thead>\n",
       "  <tbody>\n",
       "    <tr>\n",
       "      <th>0</th>\n",
       "      <td>1</td>\n",
       "      <td>1</td>\n",
       "      <td>6</td>\n",
       "      <td>2021</td>\n",
       "    </tr>\n",
       "    <tr>\n",
       "      <th>1</th>\n",
       "      <td>2</td>\n",
       "      <td>2</td>\n",
       "      <td>6</td>\n",
       "      <td>2021</td>\n",
       "    </tr>\n",
       "    <tr>\n",
       "      <th>2</th>\n",
       "      <td>3</td>\n",
       "      <td>3</td>\n",
       "      <td>6</td>\n",
       "      <td>2021</td>\n",
       "    </tr>\n",
       "    <tr>\n",
       "      <th>3</th>\n",
       "      <td>4</td>\n",
       "      <td>4</td>\n",
       "      <td>6</td>\n",
       "      <td>2021</td>\n",
       "    </tr>\n",
       "    <tr>\n",
       "      <th>4</th>\n",
       "      <td>5</td>\n",
       "      <td>5</td>\n",
       "      <td>6</td>\n",
       "      <td>2021</td>\n",
       "    </tr>\n",
       "  </tbody>\n",
       "</table>\n",
       "</div>"
      ],
      "text/plain": [
       "   id  day  month  year\n",
       "0   1    1      6  2021\n",
       "1   2    2      6  2021\n",
       "2   3    3      6  2021\n",
       "3   4    4      6  2021\n",
       "4   5    5      6  2021"
      ]
     },
     "execution_count": 19,
     "metadata": {},
     "output_type": "execute_result"
    }
   ],
   "source": [
    "c.execute(\"SELECT * FROM DateDim\")\n",
    "colnames = [row[0] for row in c.description]\n",
    "df = pd.DataFrame(c.fetchall(), columns=colnames)\n",
    "df.head()"
   ]
  },
  {
   "cell_type": "code",
   "execution_count": 20,
   "id": "a43a1766-0763-411a-8e9f-76e235e68769",
   "metadata": {},
   "outputs": [],
   "source": [
    "user_id = 1\n",
    "\n",
    "for _, row in healthDataFact.iterrows():\n",
    "    date_id = row[\"date_index\"]\n",
    "    healthData_id = row[\"type_index\"]\n",
    "    value = row[\"value\"]\n",
    "\n",
    "    c.execute(\"INSERT INTO HealthFact (user_id, date_id, healthData_id, value) VALUES (?, ?, ?, ?)\", (user_id, date_id, healthData_id, value))\n",
    "\n",
    "conn.commit()"
   ]
  },
  {
   "cell_type": "code",
   "execution_count": 21,
   "id": "ba46c0d2-9465-4a62-8749-fef393e4aed9",
   "metadata": {},
   "outputs": [
    {
     "data": {
      "text/html": [
       "<div>\n",
       "<style scoped>\n",
       "    .dataframe tbody tr th:only-of-type {\n",
       "        vertical-align: middle;\n",
       "    }\n",
       "\n",
       "    .dataframe tbody tr th {\n",
       "        vertical-align: top;\n",
       "    }\n",
       "\n",
       "    .dataframe thead th {\n",
       "        text-align: right;\n",
       "    }\n",
       "</style>\n",
       "<table border=\"1\" class=\"dataframe\">\n",
       "  <thead>\n",
       "    <tr style=\"text-align: right;\">\n",
       "      <th></th>\n",
       "      <th>id</th>\n",
       "      <th>user_id</th>\n",
       "      <th>date_id</th>\n",
       "      <th>healthData_id</th>\n",
       "      <th>value</th>\n",
       "    </tr>\n",
       "  </thead>\n",
       "  <tbody>\n",
       "    <tr>\n",
       "      <th>0</th>\n",
       "      <td>1</td>\n",
       "      <td>1</td>\n",
       "      <td>0</td>\n",
       "      <td>0</td>\n",
       "      <td>2.000000</td>\n",
       "    </tr>\n",
       "    <tr>\n",
       "      <th>1</th>\n",
       "      <td>2</td>\n",
       "      <td>1</td>\n",
       "      <td>0</td>\n",
       "      <td>1</td>\n",
       "      <td>0.000000</td>\n",
       "    </tr>\n",
       "    <tr>\n",
       "      <th>2</th>\n",
       "      <td>3</td>\n",
       "      <td>1</td>\n",
       "      <td>0</td>\n",
       "      <td>2</td>\n",
       "      <td>6.824425</td>\n",
       "    </tr>\n",
       "    <tr>\n",
       "      <th>3</th>\n",
       "      <td>4</td>\n",
       "      <td>1</td>\n",
       "      <td>0</td>\n",
       "      <td>3</td>\n",
       "      <td>0.000000</td>\n",
       "    </tr>\n",
       "    <tr>\n",
       "      <th>4</th>\n",
       "      <td>5</td>\n",
       "      <td>1</td>\n",
       "      <td>0</td>\n",
       "      <td>4</td>\n",
       "      <td>0.000000</td>\n",
       "    </tr>\n",
       "  </tbody>\n",
       "</table>\n",
       "</div>"
      ],
      "text/plain": [
       "   id  user_id  date_id  healthData_id     value\n",
       "0   1        1        0              0  2.000000\n",
       "1   2        1        0              1  0.000000\n",
       "2   3        1        0              2  6.824425\n",
       "3   4        1        0              3  0.000000\n",
       "4   5        1        0              4  0.000000"
      ]
     },
     "execution_count": 21,
     "metadata": {},
     "output_type": "execute_result"
    }
   ],
   "source": [
    "c.execute(\"SELECT * FROM HealthFact\")\n",
    "colnames = [row[0] for row in c.description]\n",
    "df = pd.DataFrame(c.fetchall(), columns=colnames)\n",
    "df.head()"
   ]
  },
  {
   "cell_type": "code",
   "execution_count": 22,
   "id": "99c867e4-4485-405b-9cd2-89703e7ca589",
   "metadata": {},
   "outputs": [],
   "source": [
    "descriptions = {\n",
    "    \"basal_energy_burned\": \"Calories burned during rest\",\n",
    "    \"sleep_asleep\": \"Duration of deep sleep\",\n",
    "    \"sleep_in_bed\": \"Time spent in bed\",\n",
    "    \"sleep_core\": \"Duration of sleep cycle\",\n",
    "    \"sleep_deep\": \"Duration of deep sleep\",\n",
    "    \"sleep_rem\": \"Duration of REM sleep\",\n",
    "    \"sleep_awake\": \"Duration of awake time during sleep\",\n",
    "    \"step_count\": \"Number of steps taken\",\n",
    "    \"active_energy\": \"Calories burned during activity\",\n",
    "    \"exercise_time\": \"Duration of exercise\",\n",
    "    \"stand_time\": \"Duration of standing\",\n",
    "    \"flights_climbed\": \"Number of flights of stairs climbed\",\n",
    "    \"heart_rate_min\": \"Minimum heart rate\",\n",
    "    \"heart_rate_max\": \"Maximum heart rate\",\n",
    "    \"heart_rate_avg\": \"Average heart rate\",\n",
    "    \"resting_heart_rate\": \"Resting heart rate\",\n",
    "    \"stair_speed_down\": \"Speed while descending stairs\",\n",
    "    \"stair_speed_up\": \"Speed while ascending stairs\"\n",
    "}\n",
    "\n",
    "for _, row in healthDataDim.iterrows():\n",
    "    health_type = row[\"type\"]\n",
    "    unit_of_measurement = row[\"type_unit_of_measurement\"]\n",
    "\n",
    "    if health_type in descriptions:\n",
    "        desc = descriptions[health_type]\n",
    "    else:\n",
    "        desc = None\n",
    "    \n",
    "    c.execute(\"INSERT INTO HealthDim (type, desc, unit_of_measurement) VALUES (?, ?, ?)\",\n",
    "              ( health_type, desc, unit_of_measurement))\n",
    "    \n",
    "conn.commit()"
   ]
  },
  {
   "cell_type": "code",
   "execution_count": 23,
   "id": "838241d5-bbfa-4519-a066-db603dcd8edf",
   "metadata": {},
   "outputs": [
    {
     "data": {
      "text/html": [
       "<div>\n",
       "<style scoped>\n",
       "    .dataframe tbody tr th:only-of-type {\n",
       "        vertical-align: middle;\n",
       "    }\n",
       "\n",
       "    .dataframe tbody tr th {\n",
       "        vertical-align: top;\n",
       "    }\n",
       "\n",
       "    .dataframe thead th {\n",
       "        text-align: right;\n",
       "    }\n",
       "</style>\n",
       "<table border=\"1\" class=\"dataframe\">\n",
       "  <thead>\n",
       "    <tr style=\"text-align: right;\">\n",
       "      <th></th>\n",
       "      <th>id</th>\n",
       "      <th>type</th>\n",
       "      <th>desc</th>\n",
       "      <th>unit_of_measurement</th>\n",
       "    </tr>\n",
       "  </thead>\n",
       "  <tbody>\n",
       "    <tr>\n",
       "      <th>0</th>\n",
       "      <td>1</td>\n",
       "      <td>flights_climbed</td>\n",
       "      <td>Number of flights of stairs climbed</td>\n",
       "      <td>count</td>\n",
       "    </tr>\n",
       "    <tr>\n",
       "      <th>1</th>\n",
       "      <td>2</td>\n",
       "      <td>sleep_asleep</td>\n",
       "      <td>Duration of deep sleep</td>\n",
       "      <td>hr</td>\n",
       "    </tr>\n",
       "    <tr>\n",
       "      <th>2</th>\n",
       "      <td>3</td>\n",
       "      <td>sleep_in_bed</td>\n",
       "      <td>Time spent in bed</td>\n",
       "      <td>hr</td>\n",
       "    </tr>\n",
       "    <tr>\n",
       "      <th>3</th>\n",
       "      <td>4</td>\n",
       "      <td>sleep_core</td>\n",
       "      <td>Duration of sleep cycle</td>\n",
       "      <td>hr</td>\n",
       "    </tr>\n",
       "    <tr>\n",
       "      <th>4</th>\n",
       "      <td>5</td>\n",
       "      <td>sleep_deep</td>\n",
       "      <td>Duration of deep sleep</td>\n",
       "      <td>hr</td>\n",
       "    </tr>\n",
       "    <tr>\n",
       "      <th>5</th>\n",
       "      <td>6</td>\n",
       "      <td>sleep_rem</td>\n",
       "      <td>Duration of REM sleep</td>\n",
       "      <td>hr</td>\n",
       "    </tr>\n",
       "    <tr>\n",
       "      <th>6</th>\n",
       "      <td>7</td>\n",
       "      <td>sleep_awake</td>\n",
       "      <td>Duration of awake time during sleep</td>\n",
       "      <td>hr</td>\n",
       "    </tr>\n",
       "    <tr>\n",
       "      <th>7</th>\n",
       "      <td>8</td>\n",
       "      <td>step_count</td>\n",
       "      <td>Number of steps taken</td>\n",
       "      <td>count</td>\n",
       "    </tr>\n",
       "    <tr>\n",
       "      <th>8</th>\n",
       "      <td>9</td>\n",
       "      <td>active_energy</td>\n",
       "      <td>Calories burned during activity</td>\n",
       "      <td>kcal</td>\n",
       "    </tr>\n",
       "    <tr>\n",
       "      <th>9</th>\n",
       "      <td>10</td>\n",
       "      <td>exercise_time</td>\n",
       "      <td>Duration of exercise</td>\n",
       "      <td>min</td>\n",
       "    </tr>\n",
       "    <tr>\n",
       "      <th>10</th>\n",
       "      <td>11</td>\n",
       "      <td>stand_time</td>\n",
       "      <td>Duration of standing</td>\n",
       "      <td>min</td>\n",
       "    </tr>\n",
       "    <tr>\n",
       "      <th>11</th>\n",
       "      <td>12</td>\n",
       "      <td>basal_energy_burned</td>\n",
       "      <td>Calories burned during rest</td>\n",
       "      <td>kcal</td>\n",
       "    </tr>\n",
       "    <tr>\n",
       "      <th>12</th>\n",
       "      <td>13</td>\n",
       "      <td>heart_rate_min</td>\n",
       "      <td>Minimum heart rate</td>\n",
       "      <td>count/min</td>\n",
       "    </tr>\n",
       "    <tr>\n",
       "      <th>13</th>\n",
       "      <td>14</td>\n",
       "      <td>heart_rate_max</td>\n",
       "      <td>Maximum heart rate</td>\n",
       "      <td>count/min</td>\n",
       "    </tr>\n",
       "    <tr>\n",
       "      <th>14</th>\n",
       "      <td>15</td>\n",
       "      <td>heart_rate_avg</td>\n",
       "      <td>Average heart rate</td>\n",
       "      <td>count/min</td>\n",
       "    </tr>\n",
       "    <tr>\n",
       "      <th>15</th>\n",
       "      <td>16</td>\n",
       "      <td>resting_heart_rate</td>\n",
       "      <td>Resting heart rate</td>\n",
       "      <td>count/min</td>\n",
       "    </tr>\n",
       "    <tr>\n",
       "      <th>16</th>\n",
       "      <td>17</td>\n",
       "      <td>stair_speed_down</td>\n",
       "      <td>Speed while descending stairs</td>\n",
       "      <td>ft/s</td>\n",
       "    </tr>\n",
       "    <tr>\n",
       "      <th>17</th>\n",
       "      <td>18</td>\n",
       "      <td>stair_speed_up</td>\n",
       "      <td>Speed while ascending stairs</td>\n",
       "      <td>ft/s</td>\n",
       "    </tr>\n",
       "  </tbody>\n",
       "</table>\n",
       "</div>"
      ],
      "text/plain": [
       "    id                 type                                 desc  \\\n",
       "0    1      flights_climbed  Number of flights of stairs climbed   \n",
       "1    2         sleep_asleep               Duration of deep sleep   \n",
       "2    3         sleep_in_bed                    Time spent in bed   \n",
       "3    4           sleep_core              Duration of sleep cycle   \n",
       "4    5           sleep_deep               Duration of deep sleep   \n",
       "5    6            sleep_rem                Duration of REM sleep   \n",
       "6    7          sleep_awake  Duration of awake time during sleep   \n",
       "7    8           step_count                Number of steps taken   \n",
       "8    9        active_energy      Calories burned during activity   \n",
       "9   10        exercise_time                 Duration of exercise   \n",
       "10  11           stand_time                 Duration of standing   \n",
       "11  12  basal_energy_burned          Calories burned during rest   \n",
       "12  13       heart_rate_min                   Minimum heart rate   \n",
       "13  14       heart_rate_max                   Maximum heart rate   \n",
       "14  15       heart_rate_avg                   Average heart rate   \n",
       "15  16   resting_heart_rate                   Resting heart rate   \n",
       "16  17     stair_speed_down        Speed while descending stairs   \n",
       "17  18       stair_speed_up         Speed while ascending stairs   \n",
       "\n",
       "   unit_of_measurement  \n",
       "0                count  \n",
       "1                   hr  \n",
       "2                   hr  \n",
       "3                   hr  \n",
       "4                   hr  \n",
       "5                   hr  \n",
       "6                   hr  \n",
       "7                count  \n",
       "8                 kcal  \n",
       "9                  min  \n",
       "10                 min  \n",
       "11                kcal  \n",
       "12           count/min  \n",
       "13           count/min  \n",
       "14           count/min  \n",
       "15           count/min  \n",
       "16                ft/s  \n",
       "17                ft/s  "
      ]
     },
     "execution_count": 23,
     "metadata": {},
     "output_type": "execute_result"
    }
   ],
   "source": [
    "c.execute(\"SELECT * FROM HealthDim\")\n",
    "colnames = [row[0] for row in c.description]\n",
    "df = pd.DataFrame(c.fetchall(), columns=colnames)\n",
    "df"
   ]
  },
  {
   "cell_type": "code",
   "execution_count": 24,
   "id": "5ad8266a",
   "metadata": {},
   "outputs": [],
   "source": [
    "import seaborn as sns\n",
    "import matplotlib.pyplot as plt\n",
    "%matplotlib inline"
   ]
  },
  {
   "cell_type": "code",
   "execution_count": 25,
   "id": "30349239-e683-41e7-8e2d-f842e95e8a71",
   "metadata": {},
   "outputs": [
    {
     "data": {
      "text/html": [
       "<div>\n",
       "<style scoped>\n",
       "    .dataframe tbody tr th:only-of-type {\n",
       "        vertical-align: middle;\n",
       "    }\n",
       "\n",
       "    .dataframe tbody tr th {\n",
       "        vertical-align: top;\n",
       "    }\n",
       "\n",
       "    .dataframe thead th {\n",
       "        text-align: right;\n",
       "    }\n",
       "</style>\n",
       "<table border=\"1\" class=\"dataframe\">\n",
       "  <thead>\n",
       "    <tr style=\"text-align: right;\">\n",
       "      <th></th>\n",
       "      <th>id</th>\n",
       "      <th>user_id</th>\n",
       "      <th>date_id</th>\n",
       "      <th>healthData_id</th>\n",
       "      <th>value</th>\n",
       "    </tr>\n",
       "  </thead>\n",
       "  <tbody>\n",
       "    <tr>\n",
       "      <th>0</th>\n",
       "      <td>1</td>\n",
       "      <td>1</td>\n",
       "      <td>0</td>\n",
       "      <td>0</td>\n",
       "      <td>2.000000</td>\n",
       "    </tr>\n",
       "    <tr>\n",
       "      <th>1</th>\n",
       "      <td>2</td>\n",
       "      <td>1</td>\n",
       "      <td>0</td>\n",
       "      <td>1</td>\n",
       "      <td>0.000000</td>\n",
       "    </tr>\n",
       "    <tr>\n",
       "      <th>2</th>\n",
       "      <td>3</td>\n",
       "      <td>1</td>\n",
       "      <td>0</td>\n",
       "      <td>2</td>\n",
       "      <td>6.824425</td>\n",
       "    </tr>\n",
       "    <tr>\n",
       "      <th>3</th>\n",
       "      <td>4</td>\n",
       "      <td>1</td>\n",
       "      <td>0</td>\n",
       "      <td>3</td>\n",
       "      <td>0.000000</td>\n",
       "    </tr>\n",
       "    <tr>\n",
       "      <th>4</th>\n",
       "      <td>5</td>\n",
       "      <td>1</td>\n",
       "      <td>0</td>\n",
       "      <td>4</td>\n",
       "      <td>0.000000</td>\n",
       "    </tr>\n",
       "  </tbody>\n",
       "</table>\n",
       "</div>"
      ],
      "text/plain": [
       "   id  user_id  date_id  healthData_id     value\n",
       "0   1        1        0              0  2.000000\n",
       "1   2        1        0              1  0.000000\n",
       "2   3        1        0              2  6.824425\n",
       "3   4        1        0              3  0.000000\n",
       "4   5        1        0              4  0.000000"
      ]
     },
     "execution_count": 25,
     "metadata": {},
     "output_type": "execute_result"
    }
   ],
   "source": [
    "#NULL value check\n",
    "c.execute('''\n",
    "SELECT * FROM HealthFact\n",
    "''')\n",
    "colnames = [row[0] for row in c.description]\n",
    "df = pd.DataFrame(c.fetchall(), columns=colnames)\n",
    "df.head()"
   ]
  },
  {
   "cell_type": "code",
   "execution_count": 26,
   "id": "dba06ce3",
   "metadata": {},
   "outputs": [
    {
     "data": {
      "text/html": [
       "<div>\n",
       "<style scoped>\n",
       "    .dataframe tbody tr th:only-of-type {\n",
       "        vertical-align: middle;\n",
       "    }\n",
       "\n",
       "    .dataframe tbody tr th {\n",
       "        vertical-align: top;\n",
       "    }\n",
       "\n",
       "    .dataframe thead th {\n",
       "        text-align: right;\n",
       "    }\n",
       "</style>\n",
       "<table border=\"1\" class=\"dataframe\">\n",
       "  <thead>\n",
       "    <tr style=\"text-align: right;\">\n",
       "      <th></th>\n",
       "      <th>user_id</th>\n",
       "      <th>year</th>\n",
       "      <th>type</th>\n",
       "      <th>Average/Mean</th>\n",
       "      <th>Median</th>\n",
       "    </tr>\n",
       "  </thead>\n",
       "  <tbody>\n",
       "    <tr>\n",
       "      <th>0</th>\n",
       "      <td>1</td>\n",
       "      <td>2021</td>\n",
       "      <td>active_energy</td>\n",
       "      <td>12.06</td>\n",
       "      <td>51.00</td>\n",
       "    </tr>\n",
       "    <tr>\n",
       "      <th>1</th>\n",
       "      <td>1</td>\n",
       "      <td>2021</td>\n",
       "      <td>basal_energy_burned</td>\n",
       "      <td>50.87</td>\n",
       "      <td>61.00</td>\n",
       "    </tr>\n",
       "    <tr>\n",
       "      <th>2</th>\n",
       "      <td>1</td>\n",
       "      <td>2021</td>\n",
       "      <td>exercise_time</td>\n",
       "      <td>57.25</td>\n",
       "      <td>170.00</td>\n",
       "    </tr>\n",
       "    <tr>\n",
       "      <th>3</th>\n",
       "      <td>1</td>\n",
       "      <td>2021</td>\n",
       "      <td>flights_climbed</td>\n",
       "      <td>4.96</td>\n",
       "      <td>4.61</td>\n",
       "    </tr>\n",
       "    <tr>\n",
       "      <th>4</th>\n",
       "      <td>1</td>\n",
       "      <td>2021</td>\n",
       "      <td>heart_rate_avg</td>\n",
       "      <td>58.02</td>\n",
       "      <td>66.00</td>\n",
       "    </tr>\n",
       "  </tbody>\n",
       "</table>\n",
       "</div>"
      ],
      "text/plain": [
       "   user_id  year                 type  Average/Mean  Median\n",
       "0        1  2021        active_energy         12.06   51.00\n",
       "1        1  2021  basal_energy_burned         50.87   61.00\n",
       "2        1  2021        exercise_time         57.25  170.00\n",
       "3        1  2021      flights_climbed          4.96    4.61\n",
       "4        1  2021       heart_rate_avg         58.02   66.00"
      ]
     },
     "execution_count": 26,
     "metadata": {},
     "output_type": "execute_result"
    }
   ],
   "source": [
    "#mean median\n",
    "c.execute('''\n",
    "SELECT \n",
    "    hF.user_id,\n",
    "    dD.Year,\n",
    "    hD.type,\n",
    "    Round(AVG(hF.value),2) AS 'Average/Mean',\n",
    "    Round(((MAX(hF.value) + MIN(hF.value)) / 2),2) AS 'Median'\n",
    "FROM \n",
    "    healthFact hF \n",
    "INNER JOIN  \n",
    "    dateDim dD ON hF.date_id = dD.id \n",
    "INNER JOIN \n",
    "    healthDim hD ON hF.healthData_id = hD.id \n",
    "GROUP BY \n",
    "    hF.user_id,\n",
    "    dD.Year,\n",
    "    hD.type\n",
    "''')\n",
    "colnames = c.description   # gather collumn names from a new query\n",
    "colnames_list = []\n",
    "for row in colnames:\n",
    "    colnames_list.append(row[0])\n",
    "\n",
    "df = pd.DataFrame(c.fetchall(), columns=colnames_list)\n",
    "df.head()"
   ]
  },
  {
   "cell_type": "code",
   "execution_count": 27,
   "id": "8257e8c6",
   "metadata": {},
   "outputs": [
    {
     "data": {
      "text/html": [
       "<div>\n",
       "<style scoped>\n",
       "    .dataframe tbody tr th:only-of-type {\n",
       "        vertical-align: middle;\n",
       "    }\n",
       "\n",
       "    .dataframe tbody tr th {\n",
       "        vertical-align: top;\n",
       "    }\n",
       "\n",
       "    .dataframe thead th {\n",
       "        text-align: right;\n",
       "    }\n",
       "</style>\n",
       "<table border=\"1\" class=\"dataframe\">\n",
       "  <thead>\n",
       "    <tr style=\"text-align: right;\">\n",
       "      <th></th>\n",
       "      <th>user_id</th>\n",
       "      <th>year</th>\n",
       "      <th>type</th>\n",
       "      <th>Maximum value</th>\n",
       "      <th>Minimum value</th>\n",
       "    </tr>\n",
       "  </thead>\n",
       "  <tbody>\n",
       "    <tr>\n",
       "      <th>0</th>\n",
       "      <td>1</td>\n",
       "      <td>2021</td>\n",
       "      <td>active_energy</td>\n",
       "      <td>102.00</td>\n",
       "      <td>1.00</td>\n",
       "    </tr>\n",
       "    <tr>\n",
       "      <th>1</th>\n",
       "      <td>1</td>\n",
       "      <td>2021</td>\n",
       "      <td>basal_energy_burned</td>\n",
       "      <td>82.00</td>\n",
       "      <td>40.00</td>\n",
       "    </tr>\n",
       "    <tr>\n",
       "      <th>2</th>\n",
       "      <td>1</td>\n",
       "      <td>2021</td>\n",
       "      <td>exercise_time</td>\n",
       "      <td>339.00</td>\n",
       "      <td>1.00</td>\n",
       "    </tr>\n",
       "    <tr>\n",
       "      <th>3</th>\n",
       "      <td>1</td>\n",
       "      <td>2021</td>\n",
       "      <td>flights_climbed</td>\n",
       "      <td>9.22</td>\n",
       "      <td>0.00</td>\n",
       "    </tr>\n",
       "    <tr>\n",
       "      <th>4</th>\n",
       "      <td>1</td>\n",
       "      <td>2021</td>\n",
       "      <td>heart_rate_avg</td>\n",
       "      <td>85.00</td>\n",
       "      <td>48.00</td>\n",
       "    </tr>\n",
       "    <tr>\n",
       "      <th>5</th>\n",
       "      <td>1</td>\n",
       "      <td>2021</td>\n",
       "      <td>heart_rate_max</td>\n",
       "      <td>95.45</td>\n",
       "      <td>58.44</td>\n",
       "    </tr>\n",
       "    <tr>\n",
       "      <th>6</th>\n",
       "      <td>1</td>\n",
       "      <td>2021</td>\n",
       "      <td>heart_rate_min</td>\n",
       "      <td>188.00</td>\n",
       "      <td>81.00</td>\n",
       "    </tr>\n",
       "    <tr>\n",
       "      <th>7</th>\n",
       "      <td>1</td>\n",
       "      <td>2021</td>\n",
       "      <td>resting_heart_rate</td>\n",
       "      <td>1.85</td>\n",
       "      <td>0.72</td>\n",
       "    </tr>\n",
       "    <tr>\n",
       "      <th>8</th>\n",
       "      <td>1</td>\n",
       "      <td>2021</td>\n",
       "      <td>sleep_asleep</td>\n",
       "      <td>13.63</td>\n",
       "      <td>4.36</td>\n",
       "    </tr>\n",
       "    <tr>\n",
       "      <th>9</th>\n",
       "      <td>1</td>\n",
       "      <td>2021</td>\n",
       "      <td>sleep_awake</td>\n",
       "      <td>20311.00</td>\n",
       "      <td>5.00</td>\n",
       "    </tr>\n",
       "  </tbody>\n",
       "</table>\n",
       "</div>"
      ],
      "text/plain": [
       "   user_id  year                 type  Maximum value  Minimum value\n",
       "0        1  2021        active_energy         102.00           1.00\n",
       "1        1  2021  basal_energy_burned          82.00          40.00\n",
       "2        1  2021        exercise_time         339.00           1.00\n",
       "3        1  2021      flights_climbed           9.22           0.00\n",
       "4        1  2021       heart_rate_avg          85.00          48.00\n",
       "5        1  2021       heart_rate_max          95.45          58.44\n",
       "6        1  2021       heart_rate_min         188.00          81.00\n",
       "7        1  2021   resting_heart_rate           1.85           0.72\n",
       "8        1  2021         sleep_asleep          13.63           4.36\n",
       "9        1  2021          sleep_awake       20311.00           5.00"
      ]
     },
     "execution_count": 27,
     "metadata": {},
     "output_type": "execute_result"
    }
   ],
   "source": [
    "#min max\n",
    "c.execute('''\n",
    "SELECT \n",
    "    hF.user_id,\n",
    "    dD.Year,\n",
    "    hD.type,\n",
    "    Round(MAX(hF.value),2) AS 'Maximum value',\n",
    "    Round(MIN(hF.value),2) AS 'Minimum value'\n",
    "FROM \n",
    "    healthFact hF \n",
    "INNER JOIN  \n",
    "    dateDim dD ON hF.date_id = dD.id \n",
    "INNER JOIN \n",
    "    healthDim hD ON hF.healthData_id = hD.id \n",
    "\n",
    "GROUP BY \n",
    "    hF.user_id,\n",
    "    dD.Year,\n",
    "    hD.type\n",
    "''')\n",
    "colnames = c.description   # gather collumn names from a new query\n",
    "colnames_list = []\n",
    "for row in colnames:\n",
    "    colnames_list.append(row[0])\n",
    "\n",
    "df = pd.DataFrame(c.fetchall(), columns=colnames_list)\n",
    "df.head(10)"
   ]
  },
  {
   "cell_type": "markdown",
   "id": "f7eefafc",
   "metadata": {},
   "source": [
    "### 1.Average Energy Burned"
   ]
  },
  {
   "cell_type": "code",
   "execution_count": 28,
   "id": "f8e8ffbc",
   "metadata": {},
   "outputs": [
    {
     "data": {
      "text/plain": [
       "Text(0.5, 1.0, 'Average Energy Burned')"
      ]
     },
     "execution_count": 28,
     "metadata": {},
     "output_type": "execute_result"
    },
    {
     "data": {
      "image/png": "[encoded data removed]",
      "text/plain": [
       "<Figure size 640x480 with 1 Axes>"
      ]
     },
     "metadata": {},
     "output_type": "display_data"
    }
   ],
   "source": [
    "\n",
    "c.execute('''\n",
    "SELECT \n",
    "    hD.type,\n",
    "    Round(AVG(hF.value),2) as avg_time\n",
    "FROM\n",
    "    healthDim hD \n",
    "INNER JOIN \n",
    "    healthFact hF ON hD.id = hF.healthData_id \n",
    "WHERE\n",
    "    type in ('active_energy', 'basal_energy_burned')\n",
    "GROUP BY\n",
    "    hD.type''')\n",
    "colnames = c.description   # gather collumn names from a new query\n",
    "colnames_list = []\n",
    "for row in colnames:\n",
    "    colnames_list.append(row[0])\n",
    "\n",
    "df = pd.DataFrame(c.fetchall(), columns=colnames_list)\n",
    "df\n",
    "\n",
    "labels = df['type']\n",
    "sizes = df['avg_time']\n",
    "\n",
    "fig, ax = plt.subplots()\n",
    "ax.pie(sizes, labels=labels)\n",
    "plt.title('Average Energy Burned')\n"
   ]
  },
  {
   "cell_type": "markdown",
   "id": "e0f0b355",
   "metadata": {},
   "source": [
    "### 2. Running Totals"
   ]
  },
  {
   "cell_type": "code",
   "execution_count": 30,
   "id": "baec2009",
   "metadata": {},
   "outputs": [
    {
     "data": {
      "text/plain": [
       "Text(0.5, 1.0, 'Running Totals')"
      ]
     },
     "execution_count": 30,
     "metadata": {},
     "output_type": "execute_result"
    },
    {
     "data": {
      "image/png": "[encoded data removed]",
      "text/plain": [
       "<Figure size 800x500 with 2 Axes>"
      ]
     },
     "metadata": {},
     "output_type": "display_data"
    }
   ],
   "source": [
    "\n",
    "c.execute('''\n",
    "SELECT \n",
    "    dD.year,\n",
    "    dD.month,\n",
    "    round(SUM(hF.value),2) value\n",
    "FROM\n",
    "    healthFact hF\n",
    "INNER JOIN \n",
    "    healthDim hD on hF.healthData_id = hD.id\n",
    "INNER JOIN \n",
    "    dateDim dD on hF.date_id = dD.id\n",
    "WHERE\n",
    "    type in ('active_energy')\n",
    "GROUP BY \n",
    "    dD.year,\n",
    "    dD.month\n",
    "''')\n",
    "\n",
    "colnames = c.description   # gather collumn names from a new query\n",
    "colnames_list = []\n",
    "for row in colnames:\n",
    "    colnames_list.append(row[0])\n",
    "    \n",
    "df = pd.DataFrame(c.fetchall(), columns=colnames_list)\n",
    "df\n",
    "\n",
    "x = df.pivot('year','month','value')\n",
    "x = x.fillna(0)\n",
    "x\n",
    "\n",
    "plt.figure(figsize = (8,5))\n",
    "ax = sns.heatmap(x,linewidth = 1,cmap = 'Blues')\n",
    "#ax.set(xlabel='X-Axis', ylabel='Y-Axis')\n",
    "plt.title('Running Totals')"
   ]
  },
  {
   "cell_type": "markdown",
   "id": "548cb407",
   "metadata": {},
   "source": [
    "### 3. week, user is most active"
   ]
  },
  {
   "cell_type": "code",
   "execution_count": 31,
   "id": "e1155578",
   "metadata": {},
   "outputs": [
    {
     "data": {
      "text/html": [
       "<div>\n",
       "<style scoped>\n",
       "    .dataframe tbody tr th:only-of-type {\n",
       "        vertical-align: middle;\n",
       "    }\n",
       "\n",
       "    .dataframe tbody tr th {\n",
       "        vertical-align: top;\n",
       "    }\n",
       "\n",
       "    .dataframe thead th {\n",
       "        text-align: right;\n",
       "    }\n",
       "</style>\n",
       "<table border=\"1\" class=\"dataframe\">\n",
       "  <thead>\n",
       "    <tr style=\"text-align: right;\">\n",
       "      <th></th>\n",
       "      <th>year</th>\n",
       "      <th>month</th>\n",
       "      <th>week</th>\n",
       "      <th>unit_of_measurement</th>\n",
       "      <th>value</th>\n",
       "    </tr>\n",
       "  </thead>\n",
       "  <tbody>\n",
       "    <tr>\n",
       "      <th>0</th>\n",
       "      <td>2021</td>\n",
       "      <td>6</td>\n",
       "      <td>22</td>\n",
       "      <td>kcal</td>\n",
       "      <td>22</td>\n",
       "    </tr>\n",
       "    <tr>\n",
       "      <th>1</th>\n",
       "      <td>2021</td>\n",
       "      <td>7</td>\n",
       "      <td>26</td>\n",
       "      <td>kcal</td>\n",
       "      <td>62</td>\n",
       "    </tr>\n",
       "    <tr>\n",
       "      <th>2</th>\n",
       "      <td>2021</td>\n",
       "      <td>8</td>\n",
       "      <td>30</td>\n",
       "      <td>kcal</td>\n",
       "      <td>102</td>\n",
       "    </tr>\n",
       "    <tr>\n",
       "      <th>3</th>\n",
       "      <td>2021</td>\n",
       "      <td>9</td>\n",
       "      <td>35</td>\n",
       "      <td>kcal</td>\n",
       "      <td>55</td>\n",
       "    </tr>\n",
       "    <tr>\n",
       "      <th>4</th>\n",
       "      <td>2021</td>\n",
       "      <td>10</td>\n",
       "      <td>39</td>\n",
       "      <td>kcal</td>\n",
       "      <td>86</td>\n",
       "    </tr>\n",
       "    <tr>\n",
       "      <th>5</th>\n",
       "      <td>2021</td>\n",
       "      <td>11</td>\n",
       "      <td>44</td>\n",
       "      <td>kcal</td>\n",
       "      <td>24</td>\n",
       "    </tr>\n",
       "    <tr>\n",
       "      <th>6</th>\n",
       "      <td>2021</td>\n",
       "      <td>12</td>\n",
       "      <td>48</td>\n",
       "      <td>kcal</td>\n",
       "      <td>22</td>\n",
       "    </tr>\n",
       "    <tr>\n",
       "      <th>7</th>\n",
       "      <td>2022</td>\n",
       "      <td>1</td>\n",
       "      <td>00</td>\n",
       "      <td>kcal</td>\n",
       "      <td>31</td>\n",
       "    </tr>\n",
       "    <tr>\n",
       "      <th>8</th>\n",
       "      <td>2022</td>\n",
       "      <td>2</td>\n",
       "      <td>05</td>\n",
       "      <td>kcal</td>\n",
       "      <td>24</td>\n",
       "    </tr>\n",
       "    <tr>\n",
       "      <th>9</th>\n",
       "      <td>2022</td>\n",
       "      <td>3</td>\n",
       "      <td>09</td>\n",
       "      <td>kcal</td>\n",
       "      <td>66</td>\n",
       "    </tr>\n",
       "  </tbody>\n",
       "</table>\n",
       "</div>"
      ],
      "text/plain": [
       "   year  month week unit_of_measurement  value\n",
       "0  2021      6   22                kcal     22\n",
       "1  2021      7   26                kcal     62\n",
       "2  2021      8   30                kcal    102\n",
       "3  2021      9   35                kcal     55\n",
       "4  2021     10   39                kcal     86\n",
       "5  2021     11   44                kcal     24\n",
       "6  2021     12   48                kcal     22\n",
       "7  2022      1   00                kcal     31\n",
       "8  2022      2   05                kcal     24\n",
       "9  2022      3   09                kcal     66"
      ]
     },
     "execution_count": 31,
     "metadata": {},
     "output_type": "execute_result"
    }
   ],
   "source": [
    "\n",
    "c.execute('''\n",
    "select \n",
    "    dD.year,\n",
    "    dD.month,\n",
    "    strftime('%W', date(year ||'-01-01','+'||(month-1)||' month') ) week,\n",
    "    hD.unit_of_measurement,\n",
    "    max(hF.value) value\n",
    "FROM\n",
    "    healthFact hF\n",
    "INNER JOIN\n",
    "    dateDim dD on hF.date_id = dD.id\n",
    "INNER JOIN \n",
    "    healthDim hD on hF.healthData_id = hD.id\n",
    "where hD.type = 'active_energy'\n",
    "GROUP BY\n",
    "    dD.year,\n",
    "    dD.month,\n",
    "    week,\n",
    "    hD.unit_of_measurement;\n",
    "''')\n",
    "\n",
    "colnames = c.description   # gather collumn names from a new query\n",
    "colnames_list = []\n",
    "for row in colnames:\n",
    "    colnames_list.append(row[0])\n",
    "\n",
    "df = pd.DataFrame(c.fetchall(), columns=colnames_list)\n",
    "df.head(10)\n"
   ]
  },
  {
   "cell_type": "markdown",
   "id": "edd9f34c",
   "metadata": {},
   "source": [
    "### 4. top 3 activities"
   ]
  },
  {
   "cell_type": "code",
   "execution_count": 32,
   "id": "c66b2a96",
   "metadata": {},
   "outputs": [
    {
     "data": {
      "text/plain": [
       "<AxesSubplot:xlabel='type', ylabel='value'>"
      ]
     },
     "execution_count": 32,
     "metadata": {},
     "output_type": "execute_result"
    },
    {
     "data": {
      "image/png": "[encoded data removed]",
      "text/plain": [
       "<Figure size 500x300 with 1 Axes>"
      ]
     },
     "metadata": {},
     "output_type": "display_data"
    }
   ],
   "source": [
    "\n",
    "c.execute('''\n",
    "select\n",
    "    hD.type,\n",
    "    hD.unit_of_measurement,\n",
    "    Round(sum(hF.value),2) value\n",
    "FROM\n",
    "    healthFact hF\n",
    "INNER JOIN \n",
    "    healthDim hD on hF.healthData_id = hD.id\n",
    "WHERE \n",
    "    hD.unit_of_measurement = 'count/min'\n",
    "GROUP BY\n",
    "    hD.type,\n",
    "    hD.unit_of_measurement\n",
    "ORDER BY \n",
    "    sum(hF.value)  desc  limit 3;\n",
    "''')\n",
    "\n",
    "colnames = c.description   # gather collumn names from a new query\n",
    "colnames_list = []\n",
    "for row in colnames:\n",
    "    colnames_list.append(row[0])\n",
    "\n",
    "df = pd.DataFrame(c.fetchall(), columns=colnames_list)\n",
    "df\n",
    "\n",
    "plt.figure(figsize=(5,3))\n",
    "sns.barplot(data=df, x=\"type\", y=\"value\")\n",
    "\n"
   ]
  },
  {
   "cell_type": "markdown",
   "id": "56499fda",
   "metadata": {},
   "source": [
    "### 5. monthly sleep analysis"
   ]
  },
  {
   "cell_type": "code",
   "execution_count": 33,
   "id": "0eea9c2a",
   "metadata": {},
   "outputs": [
    {
     "data": {
      "text/plain": [
       "Text(0.5, 1.0, 'Sleep Analysis')"
      ]
     },
     "execution_count": 33,
     "metadata": {},
     "output_type": "execute_result"
    },
    {
     "data": {
      "image/png": "[encoded data removed]",
      "text/plain": [
       "<Figure size 800x500 with 1 Axes>"
      ]
     },
     "metadata": {},
     "output_type": "display_data"
    }
   ],
   "source": [
    "\n",
    " \n",
    "sql = c.execute('''\n",
    "select\n",
    "    dD.year,\n",
    "    hD.desc,\n",
    "    Round(avg(hF.value),2) value\n",
    "FROM\n",
    "    healthFact hF\n",
    "INNER JOIN \n",
    "    healthDim hD on hF.healthData_id = hD.id\n",
    "INNER JOIN \n",
    "    dateDim dD on hF.date_id = dD.id\n",
    "WHERE\n",
    "    type like '%sleep%' \n",
    "   and  type not like '%awake%'\n",
    "GROUP BY\n",
    "    dD.year,\n",
    "    hD.desc\n",
    "''')\n",
    "\n",
    "colnames = c.description   # gather collumn names from a new query\n",
    "colnames_list = []\n",
    "for row in colnames:\n",
    "    colnames_list.append(row[0])\n",
    "\n",
    "df = pd.DataFrame(c.fetchall(), columns=colnames_list)\n",
    "df\n",
    "\n",
    "x = df.pivot('year','desc','value')\n",
    "x = x.fillna(0)\n",
    "x\n",
    "\n",
    "# create stacked bar chart for monthly temperatures\n",
    "x.plot(kind='bar', stacked=True, color=['red', 'skyblue', 'green'],figsize=(8,5))\n",
    " \n",
    "# labels for x & y axis\n",
    "plt.xlabel('years')\n",
    "plt.ylabel('Value')\n",
    "\n",
    "# Put a legend to the right of the current axis\n",
    "plt.legend(loc='center left', bbox_to_anchor=(1, 0.5))\n",
    "# title of plot\n",
    "plt.title('Sleep Analysis')\n",
    "\n"
   ]
  }
 ],
 "metadata": {
  "kernelspec": {
   "display_name": "Python 3 (ipykernel)",
   "language": "python",
   "name": "python3"
  },
  "language_info": {
   "codemirror_mode": {
    "name": "ipython",
    "version": 3
   },
   "file_extension": ".py",
   "mimetype": "text/x-python",
   "name": "python",
   "nbconvert_exporter": "python",
   "pygments_lexer": "ipython3",
   "version": "3.9.13"
  }
 },
 "nbformat": 4,
 "nbformat_minor": 5
}
